{
 "cells": [
  {
   "cell_type": "markdown",
   "id": "16d9ed59-fb8e-4799-a036-87195d80c5e7",
   "metadata": {},
   "source": [
    "## 크롤링crawling\n",
    "    - 웹 상에 존재하는 다양한 컨텐츠를 수집하는 행위\n",
    "    - html 문서를 통채로 읽어서 내용을 분석한뒤\n",
    "    - 필요한 데이터만 골라서 추출하는 것이 주된 작업"
   ]
  },
  {
   "cell_type": "markdown",
   "id": "7d2cbd6c-874d-4116-956b-e03723e3e592",
   "metadata": {},
   "source": [
    "## 파이썬으로 크롤링하기\n",
    " * urllib/urllib2 : 사용하기 무난, 코드 단순, 내장 패키지\n",
    " * requests : 따로 설치, urllib 보다 고급기능 제공 \n",
    " * lxml : 웹을 통해 읽어 들인 문서 내용 분석\n",
    "          문서내에서 필요한 데이터를 추출하는데 사용"
   ]
  },
  {
   "cell_type": "code",
   "execution_count": 2,
   "id": "4ab60178-fc66-4b49-ac0d-eb42732c35a7",
   "metadata": {},
   "outputs": [
    {
     "name": "stdout",
     "output_type": "stream",
     "text": [
      "Requirement already satisfied: requests in c:\\users\\kim\\appdata\\local\\packages\\pythonsoftwarefoundation.python.3.9_qbz5n2kfra8p0\\localcache\\local-packages\\python39\\site-packages (2.26.0)\n",
      "Requirement already satisfied: idna<4,>=2.5 in c:\\users\\kim\\appdata\\local\\packages\\pythonsoftwarefoundation.python.3.9_qbz5n2kfra8p0\\localcache\\local-packages\\python39\\site-packages (from requests) (3.3)\n",
      "Requirement already satisfied: charset-normalizer~=2.0.0 in c:\\users\\kim\\appdata\\local\\packages\\pythonsoftwarefoundation.python.3.9_qbz5n2kfra8p0\\localcache\\local-packages\\python39\\site-packages (from requests) (2.0.7)\n",
      "Requirement already satisfied: certifi>=2017.4.17 in c:\\users\\kim\\appdata\\local\\packages\\pythonsoftwarefoundation.python.3.9_qbz5n2kfra8p0\\localcache\\local-packages\\python39\\site-packages (from requests) (2021.10.8)\n",
      "Requirement already satisfied: urllib3<1.27,>=1.21.1 in c:\\users\\kim\\appdata\\local\\packages\\pythonsoftwarefoundation.python.3.9_qbz5n2kfra8p0\\localcache\\local-packages\\python39\\site-packages (from requests) (1.26.7)\n",
      "Requirement already satisfied: lxml in c:\\users\\kim\\appdata\\local\\packages\\pythonsoftwarefoundation.python.3.9_qbz5n2kfra8p0\\localcache\\local-packages\\python39\\site-packages (4.6.4)\n",
      "Requirement already satisfied: cssselect in c:\\users\\kim\\appdata\\local\\packages\\pythonsoftwarefoundation.python.3.9_qbz5n2kfra8p0\\localcache\\local-packages\\python39\\site-packages (1.1.0)\n"
     ]
    }
   ],
   "source": [
    "!pip install requests\n",
    "!pip install lxml\n",
    "!pip install cssselect"
   ]
  },
  {
   "cell_type": "code",
   "execution_count": 3,
   "id": "7c17a300-4aaf-4b7a-b38c-d307f2efe89e",
   "metadata": {},
   "outputs": [],
   "source": [
    "import requests \n",
    "import lxml.html\n",
    "from lxml.cssselect import CSSSelector"
   ]
  },
  {
   "cell_type": "code",
   "execution_count": 4,
   "id": "c36a20b4-d868-41ba-9f89-7c40defc377f",
   "metadata": {},
   "outputs": [],
   "source": [
    "# 한빛 미디어 홈페이지의 베스트셀러 페이지의 도서정보(이미지정보, 도서명, 저자, 가격)를 수집하세요"
   ]
  },
  {
   "cell_type": "code",
   "execution_count": 5,
   "id": "1812bed8-fae3-482f-8331-3640faa23b50",
   "metadata": {},
   "outputs": [],
   "source": [
    "url = 'https://www.hanbit.co.kr/store/books/bestseller_list.html'"
   ]
  },
  {
   "cell_type": "code",
   "execution_count": 6,
   "id": "2dfc8e57-0a5e-4a5a-92e0-6c7d45e42b95",
   "metadata": {},
   "outputs": [],
   "source": [
    "# 지정한 url의 문서를 읽어옴 : get(주소,옵션)\n",
    "res = requests.get(url)"
   ]
  },
  {
   "cell_type": "code",
   "execution_count": 7,
   "id": "a04a92a7-bc38-4615-8a5f-a54425450228",
   "metadata": {},
   "outputs": [
    {
     "name": "stdout",
     "output_type": "stream",
     "text": [
      "200 UTF-8 text/html; charset=UTF-8\n"
     ]
    }
   ],
   "source": [
    "# requests 패키지 실행후 유용한 변수로 결과 확인\n",
    "# http 응답코드, 응답으로 받은 컨텐츠의 인코딩 및 컨텐츠 유형 확인\n",
    "print(res.status_code, res.encoding, res.headers['content-type'])"
   ]
  },
  {
   "cell_type": "code",
   "execution_count": 8,
   "id": "991a9f2b-1cb7-4985-893a-4094ddffefb1",
   "metadata": {},
   "outputs": [
    {
     "data": {
      "text/plain": [
       "'<!DOCTYPE html>\\r\\n<html lang=\"ko\">\\r\\n<head>\\r\\n<!--[if lte IE 8]>\\r\\n<script>\\r\\n  location.replace(\\'/support/explorer_upgrade.html\\');\\r\\n</script>\\r\\n<![endif]-->\\r\\n<meta charset=\"utf-8\"/>\\r\\n<title>한빛출판네트워크</title>\\r\\n<link rel=\"shortcut icon\" href=\"https://www.hanbit.co.kr/images/common/hanbit.ico\"> \\r\\n<meta http-equiv=\"X-UA-Compatible\" content=\"IE=Edge\" />\\r\\n<meta property=\"og:type\" content=\"website\"/>\\r\\n<meta property=\"og:title\" content=\"한빛출판네트워크\"/>\\r\\n<meta property=\"og:description\" content=\"더 넓은 세상, 더 나은 미래를 위'"
      ]
     },
     "execution_count": 8,
     "metadata": {},
     "output_type": "execute_result"
    }
   ],
   "source": [
    "# 응답으로 받은 컨텐츠 확인 : text, content\n",
    "res.text[:500]"
   ]
  },
  {
   "cell_type": "code",
   "execution_count": 9,
   "id": "ad19a3b7-2913-4371-b02e-46e774b6085c",
   "metadata": {},
   "outputs": [
    {
     "data": {
      "text/plain": [
       "b'<!DOCTYPE html>\\r\\n<html lang=\"ko\">\\r\\n<head>\\r\\n<!--[if lte IE 8]>\\r\\n<script>\\r\\n  location.replace(\\'/support/explorer_upgrade.html\\');\\r\\n</script>\\r\\n<![endif]-->\\r\\n<meta charset=\"utf-8\"/>\\r\\n<title>\\xed\\x95\\x9c\\xeb\\xb9\\x9b\\xec\\xb6\\x9c\\xed\\x8c\\x90\\xeb\\x84\\xa4\\xed\\x8a\\xb8\\xec\\x9b\\x8c\\xed\\x81\\xac</title>\\r\\n<link rel=\"shortcut icon\" href=\"https://www.hanbit.co.kr/images/common/hanbit.ico\"> \\r\\n<meta http-equiv=\"X-UA-Compatible\" content=\"IE=Edge\" />\\r\\n<meta property=\"og:type\" content=\"website\"/>\\r\\n<meta property=\"og:title\" content=\"\\xed\\x95\\x9c\\xeb\\xb9\\x9b\\xec\\xb6\\x9c\\xed\\x8c\\x90\\xeb\\x84\\xa4\\xed\\x8a\\xb8\\xec\\x9b\\x8c\\xed\\x81\\xac\"/>\\r\\n<meta property=\"og:descripti'"
      ]
     },
     "execution_count": 9,
     "metadata": {},
     "output_type": "execute_result"
    }
   ],
   "source": [
    "res.content[:500]"
   ]
  },
  {
   "cell_type": "code",
   "execution_count": 10,
   "id": "6066f9cb-65d5-4645-af6c-3bf2e6caff9d",
   "metadata": {},
   "outputs": [],
   "source": [
    "# 스크래핑한 결과를 분석해서 필요한 데이터를 추출하기 위해 따로 변수로 저장\n",
    "html = res.text"
   ]
  },
  {
   "cell_type": "code",
   "execution_count": 11,
   "id": "0eeb4dde-e983-4d01-a905-f6b764f217a5",
   "metadata": {},
   "outputs": [],
   "source": [
    "# html 문서에 저장된 문서내 요소들을 탐색하기 편하도록 계층구조로 생성\n",
    "root = lxml.html.fromstring(html)"
   ]
  },
  {
   "cell_type": "code",
   "execution_count": 12,
   "id": "71ca43e3-aedb-4cc5-8416-2afec53a6b33",
   "metadata": {},
   "outputs": [],
   "source": [
    "# 추출한 제목을 저장하기 위해 리스트 선언\n",
    "#titles = []\n",
    "#authors = []\n",
    "#prices = []\n",
    "#thumbs = []"
   ]
  },
  {
   "cell_type": "code",
   "execution_count": 13,
   "id": "5cecae3a-4ff2-4b95-a96e-57db2d84e587",
   "metadata": {},
   "outputs": [],
   "source": [
    "#모든 p 태그들 중에서 클래스 명이 book-tit인 p태그들을 선언\n",
    "titles = []\n",
    "\n",
    "for title in root.cssselect('p.book_tit a'):\n",
    "    #print(titles.text_content())\n",
    "    titles.append(title.text_content())"
   ]
  },
  {
   "cell_type": "code",
   "execution_count": 14,
   "id": "a6964358-686d-4d87-a2e4-5d3f867995f2",
   "metadata": {},
   "outputs": [],
   "source": [
    "authors = []\n",
    "\n",
    "for author in root.cssselect('p.book_writer'):\n",
    "    authors.append(author.text_content())"
   ]
  },
  {
   "cell_type": "code",
   "execution_count": 15,
   "id": "1ac43b2e-59de-41d9-8d13-19582a8bae08",
   "metadata": {},
   "outputs": [],
   "source": [
    "prices = []\n",
    "\n",
    "for price in root.cssselect('span.price'):\n",
    "    prices.append(price.text_content())"
   ]
  },
  {
   "cell_type": "code",
   "execution_count": 16,
   "id": "da85f04e-d649-4d13-ad48-39151591d764",
   "metadata": {},
   "outputs": [
    {
     "data": {
      "text/plain": [
       "[' https://www.hanbit.co.kr/data/books/B2002963743_m.jpg',\n",
       " ' https://www.hanbit.co.kr/data/books/B8635373198_m.jpg',\n",
       " ' https://www.hanbit.co.kr/data/books/B8582604063_m.jpg',\n",
       " ' https://www.hanbit.co.kr/data/books/B3943456030_m.jpg',\n",
       " ' https://www.hanbit.co.kr/data/books/B7123382765_m.jpg',\n",
       " ' https://www.hanbit.co.kr/data/books/B8196132630_m.jpg',\n",
       " ' https://www.hanbit.co.kr/data/books/B8953951220_m.jpg',\n",
       " ' https://www.hanbit.co.kr/data/books/B2272461464_m.jpg',\n",
       " ' https://www.hanbit.co.kr/data/books/B3530910256_m.jpg',\n",
       " ' https://www.hanbit.co.kr/data/books/B7448405310_m.jpg',\n",
       " ' https://www.hanbit.co.kr/data/books/B9960200234_m.jpg',\n",
       " ' https://www.hanbit.co.kr/data/ebook/E1054933296_m.jpg',\n",
       " ' https://www.hanbit.co.kr/data/ebook/E6015792502_m.jpg',\n",
       " ' https://www.hanbit.co.kr/data/books/B2587075793_m.jpg',\n",
       " ' https://www.hanbit.co.kr/data/books/B8945183661_m.jpg']"
      ]
     },
     "execution_count": 16,
     "metadata": {},
     "output_type": "execute_result"
    }
   ],
   "source": [
    "thumbs = []\n",
    "\n",
    "for thumb in root.cssselect('img.thumb'):\n",
    "    thumbs.append(' https://www.hanbit.co.kr' + thumb.get('src'))\n",
    "thumbs"
   ]
  },
  {
   "cell_type": "code",
   "execution_count": 17,
   "id": "63bf8191-fa14-4d03-a4f6-cacc3171b739",
   "metadata": {},
   "outputs": [],
   "source": [
    "# 추출한 데이터들을 csv 형식으로 재작성\n",
    "# 혼자 공부하는 파이썬, 윤인성, 16,200(,제거) 로 csv작성"
   ]
  },
  {
   "cell_type": "code",
   "execution_count": 18,
   "id": "93fa76e8-5bad-430f-b676-43bb5a002630",
   "metadata": {},
   "outputs": [
    {
     "name": "stdout",
     "output_type": "stream",
     "text": [
      "\"혼자 공부하는 머신러닝+딥러닝\", \"박해선 \", \"23,400원\",  https://www.hanbit.co.kr/data/books/B2002963743_m.jpg \n",
      "\n",
      "\"회사에서 바로 통하는 실무 엑셀+파워포인트+워드&한글\", \"전미진 , 이화진 , 신면철 \", \"19,800원\",  https://www.hanbit.co.kr/data/books/B8635373198_m.jpg \n",
      "\n",
      "\"IT CookBook, 데이터베이스 개론(2판)\", \"김연희 \", \"27,000원\",  https://www.hanbit.co.kr/data/books/B8582604063_m.jpg \n",
      "\n",
      "\"IT CookBook, 시스템 프로그래밍: 리눅스&유닉스\", \"이종원 \", \"28,000원\",  https://www.hanbit.co.kr/data/books/B3943456030_m.jpg \n",
      "\n",
      "\"눈 떠보니 선진국\", \"박태웅 \", \"14,850원\",  https://www.hanbit.co.kr/data/books/B7123382765_m.jpg \n",
      "\n",
      "\"미라클 모닝\", \"할 엘로드 \", \"10,800원\",  https://www.hanbit.co.kr/data/books/B8196132630_m.jpg \n",
      "\n",
      "\"심리 읽어드립니다\", \"김경일 , 사피엔스 스튜디오 \", \"15,750원\",  https://www.hanbit.co.kr/data/books/B8953951220_m.jpg \n",
      "\n",
      "\"나도 손글씨 바르게 쓰면 소원이 없겠네\", \"유한빈(펜크래프트) \", \"10,800원\",  https://www.hanbit.co.kr/data/books/B2272461464_m.jpg \n",
      "\n",
      "\"리얼 국내여행 [2021~2022년 최신판]\", \"배나영 \", \"16,200원\",  https://www.hanbit.co.kr/data/books/B3530910256_m.jpg \n",
      "\n",
      "\"재미있고 빠른 첫 한글 쓰기 1권 : 모음∙자음∙쉬운 낱말\", \"한빛학습연구회 \", \"5,850원\",  https://www.hanbit.co.kr/data/books/B7448405310_m.jpg \n",
      "\n",
      "\"재미있고 빠른 첫 한글 쓰기 2권 : 가나다 글자\", \"한빛학습연구회 \", \"5,850원\",  https://www.hanbit.co.kr/data/books/B9960200234_m.jpg \n",
      "\n",
      "\"C#과 데이터베이스로 누구나 쉽게 주식 자동매매 시스템 만들기\", \"이경오 \", \"14,400원\",  https://www.hanbit.co.kr/data/ebook/E1054933296_m.jpg \n",
      "\n",
      "\"유니티 개발자를 위한 C#으로 온라인 게임 서버 만들기\", \"이석현 \", \"9,900원\",  https://www.hanbit.co.kr/data/ebook/E6015792502_m.jpg \n",
      "\n",
      "\"혼자 공부하는 파이썬\", \"윤인성 \", \"16,200원\",  https://www.hanbit.co.kr/data/books/B2587075793_m.jpg \n",
      "\n",
      "\"이것이 취업을 위한 코딩 테스트다 with 파이썬\", \"나동빈 \", \"30,600원\",  https://www.hanbit.co.kr/data/books/B8945183661_m.jpg \n",
      "\n"
     ]
    }
   ],
   "source": [
    "data = ''\n",
    "hdr = 'title,author,price,thumb \\n'\n",
    "data += hdr\n",
    "\n",
    "for i in range(len(prices)):\n",
    "    print(f'\"{titles[i]}\", \"{authors[i]}\", \"{prices[i]}\", {thumbs[i]} \\n')\n",
    "    data += f'\"{titles[i]}\", \"{authors[i]}\", \"{prices[i]}\", {thumbs[i]} \\n'\n",
    "\n",
    "    "
   ]
  },
  {
   "cell_type": "code",
   "execution_count": 19,
   "id": "1c008608-7fbc-4cb3-be36-85f7793236a8",
   "metadata": {},
   "outputs": [],
   "source": [
    "import pandas as pd"
   ]
  },
  {
   "cell_type": "code",
   "execution_count": 20,
   "id": "33f11ad0-10f4-40ee-8787-9f39f691f1d7",
   "metadata": {},
   "outputs": [],
   "source": [
    "#추출한 데이터들을 csv 파일로 저장\n",
    "with open('books.csv', 'w',encoding='UTF-8') as f:\n",
    "    #f.write(hdr)\n",
    "    f.write(data)"
   ]
  },
  {
   "cell_type": "code",
   "execution_count": 21,
   "id": "1784f13d-2778-4898-b6d0-c1d0439fed9e",
   "metadata": {},
   "outputs": [],
   "source": [
    "#새로나온 홈페이지의 '새로나온 책' 페이지의 도서정보(이미지,도서명,저자,가격)를 수집하세요\n",
    "# 단 1~3페이지 까지의 도서들을 대상으로 수집"
   ]
  },
  {
   "cell_type": "code",
   "execution_count": 22,
   "id": "9b200ac9-3ff1-4281-ba02-c1853fcd15d8",
   "metadata": {},
   "outputs": [],
   "source": [
    "# 한빛미디어 홈페이지의 '전체도서목록' 페이지의 도서정보(브랜드,도서명,저자,발행일,가격)를 수집하세요"
   ]
  },
  {
   "cell_type": "code",
   "execution_count": 23,
   "id": "937d9aea-cfab-4f7b-a498-c099fb5ed778",
   "metadata": {},
   "outputs": [],
   "source": [
    "url = 'https://www.hanbit.co.kr/store/books/full_book_list.html?page=1&srt=p_pub_date&brand='"
   ]
  },
  {
   "cell_type": "code",
   "execution_count": 24,
   "id": "998b019b-d440-43bd-a232-87271e1a5d90",
   "metadata": {},
   "outputs": [],
   "source": [
    "res = requests.get(url)"
   ]
  },
  {
   "cell_type": "code",
   "execution_count": 25,
   "id": "efd4429a-965b-48e4-ae56-462fc75a8d19",
   "metadata": {},
   "outputs": [],
   "source": [
    "html = res.text"
   ]
  },
  {
   "cell_type": "code",
   "execution_count": 26,
   "id": "62d7ed48-f5f1-43dd-9646-7b0d106eef90",
   "metadata": {},
   "outputs": [],
   "source": [
    "root = lxml.html.fromstring(html)"
   ]
  },
  {
   "cell_type": "code",
   "execution_count": 27,
   "id": "cf3aaf84-5666-4de8-b064-32ee91b19390",
   "metadata": {},
   "outputs": [
    {
     "name": "stdout",
     "output_type": "stream",
     "text": [
      "한빛비즈\n",
      "한빛미디어\n",
      "한빛에듀\n",
      "한빛에듀\n",
      "한빛에듀\n",
      "한빛미디어\n",
      "한빛미디어\n",
      "한빛미디어\n",
      "한빛미디어\n",
      "한빛아카데미\n",
      "한빛에듀\n",
      "한빛미디어\n",
      "한빛아카데미\n",
      "한빛미디어\n",
      "한빛미디어\n",
      "한빛미디어\n",
      "한빛비즈\n",
      "한빛아카데미\n",
      "한빛에듀\n",
      "한빛에듀\n",
      "한빛라이프\n",
      "한빛비즈\n",
      "한빛미디어\n",
      "한빛미디어\n",
      "한빛미디어\n",
      "한빛미디어\n",
      "한빛미디어\n",
      "한빛라이프\n",
      "한빛비즈\n",
      "한빛아카데미\n",
      "한빛미디어\n",
      "한빛비즈\n",
      "한빛미디어\n",
      "한빛아카데미\n",
      "한빛미디어\n",
      "한빛미디어\n",
      "한빛비즈\n",
      "한빛아카데미\n",
      "한빛비즈\n",
      "한빛아카데미\n",
      "한빛에듀\n",
      "한빛에듀\n",
      "한빛에듀\n",
      "한빛미디어\n",
      "한빛미디어\n",
      "한빛라이프\n",
      "한빛비즈\n",
      "한빛아카데미\n",
      "한빛아카데미\n",
      "한빛아카데미\n"
     ]
    }
   ],
   "source": [
    "brands = []\n",
    "\n",
    "#css 선택자가 요소마다 다름\n",
    "# 이런경우 이름을 요소를 선택하는 것 보다는 요소의 위치를 선택자로 사용해서 요소를 선택하는 것이 좋음\n",
    "for brand in root.cssselect('table.tbl_type_list td:first_child'):\n",
    "    print(brand.text_content())\n",
    "    brands.append(brand.text_content())"
   ]
  },
  {
   "cell_type": "code",
   "execution_count": 28,
   "id": "1dc42cef-66f1-4b75-b0ad-61f4384774e3",
   "metadata": {},
   "outputs": [
    {
     "name": "stdout",
     "output_type": "stream",
     "text": [
      "비겁한 돈\n",
      "구글 BERT의 정석\n",
      "1000개 숨은그림찾기 보물찾기 : 찾아도 찾아도 끝판왕\n",
      "1000개 숨은그림찾기 탈것 : 찾아도 찾아도 끝판왕\n",
      "1000개 숨은그림찾기 몬스터 : 찾아도 찾아도 끝판왕\n",
      "머신러닝 디자인 패턴\n",
      "소프트웨어 아키텍처 101\n",
      "혼자 공부하는 SQL\n",
      "UX/UI 디자이너를 위한 실무 피그마\n",
      "IT CookBook, 그림으로 배우고 실생활 예제로 실습하는 자바를 부탁해\n",
      "똑똑한 두뇌 연습 : 놀이공원 미로찾기\n",
      "한 권으로 다지는 머신러닝&딥러닝 with 파이썬\n",
      "IT CookBook, 시스템 프로그래밍: 리눅스&유닉스\n",
      "살아 움직이는 머신러닝 파이프라인 설계\n",
      "시험장에 몰래 가져갈  이경오의 SQL+SQLD 비밀노트\n",
      "그로킹 심층 강화학습\n",
      "심리 읽어드립니다\n",
      "한번에 적용하는 분석\n",
      "1000개 숨은그림찾기 바다 동물\n",
      "1000개 숨은그림찾기 아이스크림\n",
      "탐험! 숲체험 생물 도감\n",
      "깍두기 가계부 2022\n",
      "제대로 배우는 수학적 최적화\n",
      "미국 주식으로 시작하는 슬기로운 퀀트투자\n",
      "1년에 5,000만 원 버는 수익 확장 노하우 네이버 블로그로 돈 벌기\n",
      "디자인 1등 유튜버 존코바의 클릭을 유도하는 유튜브 디자인 with 포토샵\n",
      "핸즈온 해킹\n",
      "정리 잘하는 사람은 이렇게 합니다\n",
      "두 발로 선 경제\n",
      "인공지능 논리 입문\n",
      "머신러닝 파워드 애플리케이션\n",
      "유튜브 마케팅 인사이트\n",
      "웹 브라우저 속 머신러닝 TensorFlow.js\n",
      "IT CookBook, 처음 만나는 전기기기(2판)\n",
      "모바일 UX/UI 디자인 강의 with Adobe XD\n",
      "처음 배우는 플라스크 웹 프로그래밍\n",
      "인문학 거저보기 : 서양철학 편\n",
      "IT CookBook, 현대 센서공학(5판)\n",
      "방구석 심리학 실험실\n",
      "IT CookBook, 모바일 웹 서비스 구현을 위한 JSP 웹 프로그래밍\n",
      "혼자서도 척척 접는 종이접기\n",
      "혼자서도 척척 접는 종이접기 플러스\n",
      "혼자서도 척척 접는 종이접기 2권 세트\n",
      "스파크를 이용한 자연어 처리\n",
      "클라우드 네이티브를 위한 데이터 센터 네트워크 구축\n",
      "어른을 위한 두뇌 놀이 책\n",
      "감으로만 일하던 김 팀장은 어떻게 데이터 좀 아는 팀장이 되었나\n",
      "쉽게 배우고 익히는 회계원리[객관식/학습문제 해답](4판)\n",
      "미래조직을 위한 조직설계의 이해(4판)\n",
      "쉽게 배우고 익히는 회계원리(4판)\n"
     ]
    }
   ],
   "source": [
    "titles = []\n",
    "\n",
    "for title in root.cssselect('td.left a'):\n",
    "    print(title.text_content())\n",
    "    titles.append(title.text_content())"
   ]
  },
  {
   "cell_type": "code",
   "execution_count": 29,
   "id": "07e88c99-b0aa-49a4-b506-a15f79be4339",
   "metadata": {},
   "outputs": [
    {
     "name": "stdout",
     "output_type": "stream",
     "text": [
      "황현희 외 1명  \n",
      "수다르산 라비찬디란   \n",
      "전진희   \n",
      "이한이   \n",
      "김확실   \n",
      "발리아파 락슈마난 외 2명  \n",
      "마크 리처즈 외 1명  \n",
      "우재남   \n",
      "클레어 정   \n",
      "박세홍(홍팍)   \n",
      "권나영   \n",
      "알베르토 아르타산체스 외 1명  \n",
      "이종원   \n",
      "하네스 하프케 외 1명  \n",
      "이경오   \n",
      "미겔 모랄레스   \n",
      "김경일 외 1명  \n",
      "히든그레이스 데이터분석팀   \n",
      "이한이   \n",
      "김확실   \n",
      "이치니치 잇슈   \n",
      "쓰담여사   \n",
      "우메타니 슌지   \n",
      "김용환 외 1명  \n",
      "김동석   \n",
      "존코바(이요한)   \n",
      "매슈 히키 외 1명  \n",
      "고메다 마리나   \n",
      "이용우   \n",
      "이은정   \n",
      "에마뉘엘 아메장   \n",
      "서양수   \n",
      "카이 사사키   \n",
      "최은혁 외 1명  \n",
      "김영삼   \n",
      "윤정현   \n",
      "지하늘   \n",
      "Jacob Fraden   \n",
      "마이클 A. 브릿   \n",
      "김현규 외 1명  \n",
      "신구 후미아키   \n",
      "신구 후미아키   \n",
      "신구 후미아키   \n",
      "앨릭스 토머스   \n",
      "디네시 G. 더트   \n",
      "개러스 무어 박사   \n",
      "황보현우 외 1명  \n",
      "정용기 외 4명  \n",
      "현선해 외 2명  \n",
      "정용기 외 4명  \n"
     ]
    }
   ],
   "source": [
    "writers = []\n",
    "\n",
    "for writer in root.cssselect('td:nth-child(3)'):\n",
    "    print(writer.text_content())\n",
    "    writers.append(writer.text_content())"
   ]
  },
  {
   "cell_type": "code",
   "execution_count": 30,
   "id": "241c4161-1242-4ecf-95e6-d5ad11e763bc",
   "metadata": {},
   "outputs": [
    {
     "name": "stdout",
     "output_type": "stream",
     "text": [
      "2021-11-08\n",
      "2021-11-03\n",
      "2021-11-02\n",
      "2021-11-02\n",
      "2021-11-02\n",
      "2021-11-01\n",
      "2021-11-01\n",
      "2021-11-01\n",
      "2021-11-01\n",
      "2021-10-29\n",
      "2021-10-28\n",
      "2021-10-21\n",
      "2021-10-15\n",
      "2021-10-11\n",
      "2021-10-10\n",
      "2021-10-10\n",
      "2021-10-08\n",
      "2021-10-08\n",
      "2021-10-08\n",
      "2021-10-08\n",
      "2021-10-06\n",
      "2021-10-01\n",
      "2021-09-30\n",
      "2021-09-30\n",
      "2021-09-28\n",
      "2021-09-27\n",
      "2021-09-27\n",
      "2021-09-17\n",
      "2021-09-10\n",
      "2021-09-10\n",
      "2021-09-06\n",
      "2021-09-03\n",
      "2021-09-01\n",
      "2021-08-31\n",
      "2021-08-30\n",
      "2021-08-30\n",
      "2021-08-30\n",
      "2021-08-27\n",
      "2021-08-25\n",
      "2021-08-23\n",
      "2021-08-23\n",
      "2021-08-23\n",
      "2021-08-23\n",
      "2021-08-20\n",
      "2021-08-20\n",
      "2021-08-20\n",
      "2021-08-16\n",
      "2021-08-13\n",
      "2021-08-13\n",
      "2021-08-13\n"
     ]
    }
   ],
   "source": [
    "# 요소에 css 선택자가 없음\n",
    "\n",
    "pubdates = []\n",
    "\n",
    "for pubdate in root.cssselect('td:nth-child(4)'):\n",
    "    print(pubdate.text_content())\n",
    "    pubdates.append(pubdate.text_content())"
   ]
  },
  {
   "cell_type": "code",
   "execution_count": 31,
   "id": "a6225164-96ea-4fcc-a03b-9c32830d0581",
   "metadata": {},
   "outputs": [
    {
     "name": "stdout",
     "output_type": "stream",
     "text": [
      "16,000원\n",
      "34,000원\n",
      "8,000원\n",
      "8,000원\n",
      "8,000원\n",
      "38,000원\n",
      "32,000원\n",
      "24,000원\n",
      "24,000원\n",
      "26,000원\n",
      "7,500원\n",
      "40,000원\n",
      "28,000원\n",
      "32,000원\n",
      "32,000원\n",
      "35,000원\n",
      "17,500원\n",
      "24,000원\n",
      "8,000원\n",
      "8,000원\n",
      "13,000원\n",
      "14,800원\n",
      "38,000원\n",
      "32,000원\n",
      "16,000원\n",
      "19,800원\n",
      "45,000원\n",
      "15,000원\n",
      "23,000원\n",
      "22,000원\n",
      "27,000원\n",
      "16,500원\n",
      "25,000원\n",
      "24,000원\n",
      "26,000원\n",
      "19,800원\n",
      "18,500원\n",
      "35,000원\n",
      "18,000원\n",
      "30,000원\n",
      "9,800원\n",
      "9,800원\n",
      "15,000원\n",
      "34,000원\n",
      "36,000원\n",
      "9,900원\n",
      "17,800원\n",
      "7,000원\n",
      "22,000원\n",
      "30,000원\n"
     ]
    }
   ],
   "source": [
    "prices = []\n",
    "\n",
    "#for price in root.cssselect('td:last-child'):\n",
    "for price in root.cssselect('td.right'):\n",
    "    print(price.text_content())\n",
    "    prices.append(price.text_content())\n"
   ]
  },
  {
   "cell_type": "code",
   "execution_count": null,
   "id": "923f9b23-f2a2-4532-b751-1598cb41eabf",
   "metadata": {
    "tags": []
   },
   "outputs": [],
   "source": []
  },
  {
   "cell_type": "code",
   "execution_count": 32,
   "id": "38ef92f3-64df-484d-8a1a-e65475f67054",
   "metadata": {},
   "outputs": [],
   "source": [
    "# 네이버 검색예제\n",
    "# search.naver.com/search.naver?query=검색어\n",
    "# 네이버에 검색어를 입력하고 검색결과에서 데이터 추출\n",
    "# 질의문자열 querystring을 이용해서 검색하고\n",
    "# 그 결과에서 필요한 데이터를 추출함"
   ]
  },
  {
   "cell_type": "code",
   "execution_count": 33,
   "id": "2d04e15b-23a1-4665-85b5-3ff7be498a55",
   "metadata": {},
   "outputs": [],
   "source": [
    "#특정 사이트는 스ㅡㅋ래핑이나 크롤링을 막기위한 방편으로 \n",
    "# 사이트에 접속하는 사용자의 useragnet를 사용함\n"
   ]
  },
  {
   "cell_type": "code",
   "execution_count": 34,
   "id": "ffdbb6d0-e702-4652-9583-5312627c22db",
   "metadata": {},
   "outputs": [],
   "source": [
    "query = 'html5'   #검색어\n",
    "url = 'https://search.naver.com/search.naver'\n",
    "\n",
    "headers = {'User-Agent': 'Mozilla/5.0 (Windows NT 10.0; Win64; x64; rv:93.0) Gecko/20100101 Firefox/93.0'}\n",
    "params = {'query' : query}\n",
    "\n",
    "res = requests.get(url, headers = headers, params=params)\n",
    "html = res.text\n",
    "html[:500]\n",
    "root = lxml.html.fromstring(html)"
   ]
  },
  {
   "cell_type": "code",
   "execution_count": 35,
   "id": "c0e66993-89de-4bb3-8283-f3396bbb63f4",
   "metadata": {},
   "outputs": [],
   "source": [
    "# 블로그, 웹사이트, 네이버책, 포스트 등의 제목과 링크 추출\n",
    "titles = []\n",
    "links = []\n",
    "\n"
   ]
  },
  {
   "cell_type": "code",
   "execution_count": 36,
   "id": "e356402b-d226-4e77-bd14-c863dab1f585",
   "metadata": {},
   "outputs": [
    {
     "name": "stdout",
     "output_type": "stream",
     "text": [
      "HTML5 개요\n",
      "https://blog.naver.com/jjkwak/222552862141\n",
      "Html5 구조 | 기초부터 디자인까지 셀프코딩#2\n",
      "https://blog.naver.com/call_1994/222253172378\n",
      "HTML5 + CSS + JS 스터디 시작\n",
      "https://blog.naver.com/sorang226/222278039447\n",
      "html5 로딩 속도\n",
      "https://cafe.naver.com/hacosa/295274\n",
      "HTML5+CSS3 웹 표준의 정석 / 15~92p / 첫째마당 01HTML기본다지기, 02텍스트 관련 태그들\n",
      "https://blog.naver.com/pso7364/222556936368\n",
      "앱 플랫폼의 황금알을 낳는 거위, HTML5 게임\n",
      "http://post.naver.com/viewer/postView.nhn?volumeNo=16776238&memberNo=15460786&vType=VERTICAL\n",
      "[국비지원/HTML5+CSS] 아주 기본적인 이론 + 깔짝 메모\n",
      "https://blog.naver.com/dhs510/222554964995\n"
     ]
    }
   ],
   "source": [
    "for web in root.cssselect('panel-list a.api_txt_lines'):\n",
    "    print(web.text_content())\n",
    "    print(web.get('href'))"
   ]
  },
  {
   "cell_type": "code",
   "execution_count": 37,
   "id": "561b899a-3720-4299-8b55-543010e9d565",
   "metadata": {},
   "outputs": [
    {
     "name": "stdout",
     "output_type": "stream",
     "text": [
      "CSS,HTML 과 CSS3,HTML5의 차이점이 뭔가요? (간단히 요약해주세요!)\n",
      "https://kin.naver.com/qna/detail.naver?d1id=1&dirId=1040205&docId=379944783&qb=aHRtbDU=&enc=utf8&section=kin.ext&rank=1&search_sort=0&spq=0\n",
      "HTML5 table 관련 질문 HTML5로 다음과 같이 표를 넣고 싶은데 어떻게 하면 될까요?\n",
      "https://kin.naver.com/qna/detail.naver?d1id=1&dirId=1040205&docId=372443019&qb=aHRtbDU=&enc=utf8&section=kin.ext&rank=2&search_sort=0&spq=0\n",
      "html5 css3 인강 추천 좀 html5css3공부하려구요 웹페이지 만들어보려는데 책은 어려워서요 단기간 준비할 수 있는 곳으로 추천좀요\n",
      "https://kin.naver.com/qna/detail.naver?d1id=1&dirId=10501&docId=384782269&qb=aHRtbDU=&enc=utf8&section=kin.ext&rank=3&search_sort=0&spq=0\n"
     ]
    }
   ],
   "source": [
    "for web in root.cssselect('a.question_text'):\n",
    "    print(web.text_content())\n",
    "    print(web.get('href'))"
   ]
  },
  {
   "cell_type": "code",
   "execution_count": 38,
   "id": "82f53964-05d4-4195-9894-fcfbe0c0856c",
   "metadata": {},
   "outputs": [
    {
     "name": "stdout",
     "output_type": "stream",
     "text": [
      " HTML5 - 나무위키 \n",
      "https://namu.wiki/w/HTML5\n",
      " W3C HTML \n",
      "https://www.w3.org/html/\n",
      " Your browser - HTML5test - How well does your browser support HTML5? \n",
      "https://html5test.com/\n",
      " Web Hypertext Application Technology Working Group (WHATWG) \n",
      "https://whatwg.org/\n"
     ]
    }
   ],
   "source": [
    "for web in root.cssselect('a.link_tit'):\n",
    "    print(web.text_content())\n",
    "    print(web.get('href'))"
   ]
  },
  {
   "cell_type": "code",
   "execution_count": 39,
   "id": "ab90c5dd-53ec-45c8-92c1-0fdfc3301316",
   "metadata": {},
   "outputs": [
    {
     "name": "stdout",
     "output_type": "stream",
     "text": [
      " Do it! HTML5+CSS3 웹 표준의 정석 \n",
      "https://book.naver.com/bookdb/book_detail.nhn?bid=15975063\n",
      " Do it! HTML5+CSS3 웹 표준의 정석 \n",
      "https://book.naver.com/bookdb/book_detail.nhn?bid=11472743\n",
      " 명품 HTML5 + CSS3 + Javascript 웹 프로그래밍 \n",
      "https://book.naver.com/bookdb/book_detail.nhn?bid=11575805\n",
      " HTML5 웹 프로그래밍 입문 \n",
      "https://book.naver.com/bookdb/book_detail.nhn?bid=15257762\n",
      " 모던 웹을 위한 HTML5+CSS3 바이블 (웹 표준을 적용한 480개의 코드로 배우는 웹 페이지 제작의 모든 것) \n",
      "https://book.naver.com/bookdb/book_detail.nhn?bid=14840760\n",
      " HTML5 독학백서 \n",
      "https://book.naver.com/bookdb/book_detail.nhn?bid=21156785\n",
      " HTML5 + CSS3 + JavaScript로 배우는 웹프로그래밍 기초 (기초부터 모바일웹까지 빠르고 쉽게 배우는 웹개발 지침서) \n",
      "https://book.naver.com/bookdb/book_detail.nhn?bid=7394492\n",
      " Hello Coding HTML5+CSS3 (워드보다 쉬운 웹사이트 만들기) \n",
      "https://book.naver.com/bookdb/book_detail.nhn?bid=13330412\n",
      " 쉽게 배우는 HTML5 웹 프로그래밍 입문 (차별 없는 인터넷 환경 구현하기) \n",
      "https://book.naver.com/bookdb/book_detail.nhn?bid=11020352\n",
      " 모두의 HTML5 & CSS3 (16일 만에 배우는 웹 사이트 제작 기초) \n",
      "https://book.naver.com/bookdb/book_detail.nhn?bid=13953882\n",
      " HTML5 \n",
      "https://book.naver.com/bookdb/book_detail.nhn?bid=13983017\n",
      " HTML5 \n",
      "https://book.naver.com/bookdb/book_detail.nhn?bid=14009510\n",
      " HTML5 중심의 CSS3와 자바스크립트 \n",
      "https://book.naver.com/bookdb/book_detail.nhn?bid=18031603\n",
      " DO it! HTML5 + CSS3 웹 표준의 정석 (기초부터 반응형 웹까지! HTML 권위자에게 정석으로 배워라!) \n",
      "https://book.naver.com/bookdb/book_detail.nhn?bid=7309491\n",
      " HTML5 & CSS3 (UI디자인부터 EPUB코딩까지) \n",
      "https://book.naver.com/bookdb/book_detail.nhn?bid=20688976\n"
     ]
    }
   ],
   "source": [
    "for web in root.cssselect('a.title_area'):\n",
    "    print(web.text_content())\n",
    "    print(web.get('href'))"
   ]
  },
  {
   "cell_type": "code",
   "execution_count": 40,
   "id": "13b2f8f3-0ef2-403c-8cd7-0aa2b0e1c116",
   "metadata": {},
   "outputs": [],
   "source": [
    "# jtbc 뉴스 사이트에서\n",
    "# 사진npic, 제목title, 기사미리보기preview, 범주ntype 등을\n",
    "# 크롤링해서 jtbcbews 테이블에 저장\n",
    "# 단, 뉴스기사는 2020-10-22일자를 대상으로한다."
   ]
  },
  {
   "cell_type": "code",
   "execution_count": 41,
   "id": "3f4e904f-c01a-49ca-8727-32d0203965c4",
   "metadata": {},
   "outputs": [],
   "source": [
    "url = 'https://news.jtbc.joins.com/section/list.aspx?pdate=20201022'\n",
    "params = {'pdate' : '20201022'}\n",
    "headers = {'User-Agent': 'Mozilla/5.0 (Windows NT 10.0; Win64; x64; rv:93.0) Gecko/20100101 Firefox/93.0'}\n",
    "\n",
    "res = requests.get(url, headers = headers, params=params)\n",
    "html = res.text\n",
    "root = lxml.html.fromstring(html)"
   ]
  },
  {
   "cell_type": "code",
   "execution_count": 42,
   "id": "2910c875-42b3-4af9-ae65-ef6c36c3cd36",
   "metadata": {},
   "outputs": [
    {
     "name": "stdout",
     "output_type": "stream",
     "text": [
      "\"아이유·김연경…\" 2am 새 앨범에 대한 셀럽들의 관심\n",
      "썩토 충격? '예매율 88.6%' 대망의 '이터널스' 오늘 마블민국 상륙 \n",
      "김지운 감독 '첫' 드라마·애플TV+ '첫' 韓콘텐트…'Dr. 브레인'(종합)  \n",
      "[종합] \"1550편 출품·2059명 지원\" 서울독립영화제2021, 충무로 활기 더한다\n",
      "'웃음 담보' 라미란·김무열·윤두준 '정직한후보2' 크랭크업  \n",
      "'축의금 3만원 낸 친구' 눈물의 사연 주인공 밝혀졌다\n",
      "설훈, 이재명 면전서 \"대통령 후보들 고만고만…큰 차이 없어\"\n",
      "서민 '홍어준표' 논란에 홍준표·유승민 \"호남 비하 발언\"\n",
      "90억원어치 '밀반입 필로폰' 외국인 노동자에 팔아넘긴 일당 검거\n",
      "윤석열 \"후보 확정 즉시 '반(反) 대장동 게이트 연합' 추진\"\n",
      "[단독] 워너원 재결합 긍정적 타진…\"멤버들끼리 연락\"\n",
      "[취재썰] 영화 '보이스'의 모티브, 전직 경찰이 어떻게 김미영이 됐나\n",
      "서민 '홍어준표' 전라도 비하 논란에 \"죽을 죄 지었다\"\n",
      "불안장애라던 공무원, 병가 얻어 한 일은 '스페인 여행'\n",
      "\"콘텐츠로 세상을 잇다\" 부산콘텐츠마켓 개막\n"
     ]
    }
   ],
   "source": [
    "title = []\n",
    "\n",
    "for i in root.cssselect('dt.title_cr a:first_child'):\n",
    "    print(i.text_content())\n",
    "    title.append(i.text_content())\n",
    "    #print(i.get('href'))"
   ]
  },
  {
   "cell_type": "code",
   "execution_count": 43,
   "id": "07a34b6b-e744-4d04-a46a-bba41070d137",
   "metadata": {},
   "outputs": [
    {
     "data": {
      "text/plain": [
       "['\"아이유·김연경…\" 2am 새 앨범에 대한 셀럽들의 관심',\n",
       " \"썩토 충격? '예매율 88.6%' 대망의 '이터널스' 오늘 마블민국 상륙 \",\n",
       " \"김지운 감독 '첫' 드라마·애플TV+ '첫' 韓콘텐트…'Dr. 브레인'(종합)  \",\n",
       " '[종합] \"1550편 출품·2059명 지원\" 서울독립영화제2021, 충무로 활기 더한다',\n",
       " \"'웃음 담보' 라미란·김무열·윤두준 '정직한후보2' 크랭크업  \",\n",
       " \"'축의금 3만원 낸 친구' 눈물의 사연 주인공 밝혀졌다\",\n",
       " '설훈, 이재명 면전서 \"대통령 후보들 고만고만…큰 차이 없어\"',\n",
       " '서민 \\'홍어준표\\' 논란에 홍준표·유승민 \"호남 비하 발언\"',\n",
       " \"90억원어치 '밀반입 필로폰' 외국인 노동자에 팔아넘긴 일당 검거\",\n",
       " '윤석열 \"후보 확정 즉시 \\'반(反) 대장동 게이트 연합\\' 추진\"',\n",
       " '[단독] 워너원 재결합 긍정적 타진…\"멤버들끼리 연락\"',\n",
       " \"[취재썰] 영화 '보이스'의 모티브, 전직 경찰이 어떻게 김미영이 됐나\",\n",
       " '서민 \\'홍어준표\\' 전라도 비하 논란에 \"죽을 죄 지었다\"',\n",
       " \"불안장애라던 공무원, 병가 얻어 한 일은 '스페인 여행'\",\n",
       " '\"콘텐츠로 세상을 잇다\" 부산콘텐츠마켓 개막']"
      ]
     },
     "execution_count": 43,
     "metadata": {},
     "output_type": "execute_result"
    }
   ],
   "source": [
    "title"
   ]
  },
  {
   "cell_type": "code",
   "execution_count": 44,
   "id": "cff646ba-9854-4cd0-a388-2b6deb5b5c25",
   "metadata": {},
   "outputs": [],
   "source": [
    "npic = []\n",
    "\n",
    "for i in root.cssselect('img'):\n",
    "    #print(i.text_content())\n",
    "    npic.append(i.get('src'))\n",
    "    #print(i.get('src'))"
   ]
  },
  {
   "cell_type": "code",
   "execution_count": 45,
   "id": "dc40987a-5664-418c-8ae9-2176b73992a0",
   "metadata": {},
   "outputs": [
    {
     "name": "stdout",
     "output_type": "stream",
     "text": [
      "2am2am(조권·이창민·임슬옹·정진운)의 7년 만 완전체 앨범을 향한 관심이 뜨겁다.2am은 지난 1일 새 미니앨범 '발라드 21 가을/겨울(Ballad 21 F/W)'을 발표한 가운데 다방면에서 활약 중인 선...\n",
      "그래도 '마블'이다. 긴가민가한 사전 반응에도 \"일단 내가 보고 판단하겠다\"는 예비 관객들의 믿음이 더 크다.마블시네마틱유니버스(MCU)의 새 역사와 시대를 열게 될 영화 '이터널스(클로이 자오 감독)'가 3일 국내...\n",
      "'Dr. 브레인'의 주역들. 사진=애플TV+이런 드라마는 '처음'이다. 김지운 감독의 첫 드라마이자 애플TV+의 첫 한국 오리지널 콘텐트인 'Dr. 브레인'이 한국 시청자와 만날 준비를 마쳤다.'Dr. 브레인'은 홍작가의 동...\n",
      "'서울독립영화제2021' 공식 기자회견이 3일 오전 서울 동작구의 아트나인에서 열렸다. | 사진=JTBC엔터뉴스'서울독립영화제2021' 공식 포스터국내 독립영화의 성장과 발전이 새로운 문화 세계를 만들어내고 있다. 한...\n",
      "새로운 식구들과 더 재미있는 웃음을 담보한다.영화 '정직한 후보2(장유정 감독)'가 지난 달 31일 3개월간의 모든 촬영을 마치고 크랭크업했다.'정직한 후보2'는 지난해 2월 개봉한 '정직한 후보'의 후속작으로, 진...\n",
      "〈사진-소재원 씨 페이스북〉형편이 어려워 결혼식에서 축의금 3만 원을 내고 간 친구와의 일화를 소개한 글이 온라인에서 화제입니다. 진한 우정이 담긴 이 사연의 주인공이 밝혀졌는데, 영화 '소원'·'터널'...\n",
      "더불어민주당 이재명 대선 후보가 3일 오전 국회에서 열린 중앙선거대책위원회의를 주재하고 있다. 〈사진=국회사진기자단〉이재명 더불어민주당 대선후보가 오늘(3일) 국회에서 열린 첫 중앙선거대책위원회 회의를 ...\n",
      "국민의힘 대선 경선에서 윤석열 예비후보를 공개 지지한 서민 전 단국대 교수의 '홍어준표' 표현을 놓고 비판이 이어지고 있습니다. 윤 후보 경쟁자인 홍준표 후보와 호남을 모두 비하했다는 지적입니다. 지난해 11...\n",
      "          경찰이 압수한 마약. 〈사진=동작경찰서 제공〉        국내 거주하는 외국인 노동자들을 상대로 마약을 판매한 외국인 마약 조직이 경찰에 붙잡혔습니다.           서울동작경찰서는 국제 택배로 필로폰...\n",
      "〈사진=연합뉴스〉윤석열 국민의힘 대선 예비후보는 \"공식 후보로 확정되면, 즉시 정권 교체를 위한 '반(反) 대장동 게이트 연합'을 추진하겠다\"고 말했습니다.윤 후보는 오늘(3일) 자신의 페이스북을 통해 이렇게 ...\n",
      "JTBC 엔터뉴스팀그룹 워너원(Wanna One) 재결합 이야기가 긍정적으로 오가고 있다.3일 복수의 관계자에 따르면 '2021 MAMA'를 앞두고 워너원 재결합에 대한 공식적 이야기를 나눈 것으로 알려졌다. \"매년 시상식을 ...\n",
      " 특진까지 했던 잘 나갔던 전직 경찰이 어떻게 모르는 사람이 없는 보이스피싱 조직 총책이 됐을까요? 지난달 '김미영 팀장' 조직을 만들고 이끌었던 총책 박모 씨가 필리핀 마닐라에서 체포됐습니다. 박 씨는 제복...\n",
      "〈사진=서민 단국대 교수 유튜브 채널 캡처〉윤석열 전 검찰총장을 공개 지지한 서민 단국대 교수가 자신의 유튜브 채널에 '홍어준표'라는 표현이 올라온 것에 대해 \"죽을죄를 지었다\"고 밝혔습니다.어제(2일) 서 교...\n",
      "〈자료사진-JTBC 캡처〉병원 진단서를 내고 병가를 얻거나 육아휴직을 낸 대전 동구청 공무원들이 목적에 맞지 않는 해외여행을 다녀왔다가 적발됐습니다.오늘(3일) 대전시와 동구청은 2018년부터 올해 5월까지 장기...\n",
      "          〈사진=부산시 제공〉         세계 방송·영상 교류의 장, 제15회 부산콘텐츠마켓(BCM)이 오늘부터 12일까지 열흘간 열립니다.            올해는 '콘텐츠로 세상을 잇다(Connection the World through c...\n"
     ]
    }
   ],
   "source": [
    "preview = []\n",
    "\n",
    "for i in root.cssselect('dd.read_cr a'):\n",
    "    print(i.text_content())\n",
    "    preview.append(i.text_content())\n",
    "    #print(i.get('href'))"
   ]
  },
  {
   "cell_type": "code",
   "execution_count": 46,
   "id": "637272a4-3dec-45e4-a9e7-57adc7c40926",
   "metadata": {},
   "outputs": [
    {
     "data": {
      "text/plain": [
       "[\"2am2am(조권·이창민·임슬옹·정진운)의 7년 만 완전체 앨범을 향한 관심이 뜨겁다.2am은 지난 1일 새 미니앨범 '발라드 21 가을/겨울(Ballad 21 F/W)'을 발표한 가운데 다방면에서 활약 중인 선...\",\n",
       " '그래도 \\'마블\\'이다. 긴가민가한 사전 반응에도 \"일단 내가 보고 판단하겠다\"는 예비 관객들의 믿음이 더 크다.마블시네마틱유니버스(MCU)의 새 역사와 시대를 열게 될 영화 \\'이터널스(클로이 자오 감독)\\'가 3일 국내...',\n",
       " \"'Dr. 브레인'의 주역들. 사진=애플TV+이런 드라마는 '처음'이다. 김지운 감독의 첫 드라마이자 애플TV+의 첫 한국 오리지널 콘텐트인 'Dr. 브레인'이 한국 시청자와 만날 준비를 마쳤다.'Dr. 브레인'은 홍작가의 동...\",\n",
       " \"'서울독립영화제2021' 공식 기자회견이 3일 오전 서울 동작구의 아트나인에서 열렸다. | 사진=JTBC엔터뉴스'서울독립영화제2021' 공식 포스터국내 독립영화의 성장과 발전이 새로운 문화 세계를 만들어내고 있다. 한...\",\n",
       " \"새로운 식구들과 더 재미있는 웃음을 담보한다.영화 '정직한 후보2(장유정 감독)'가 지난 달 31일 3개월간의 모든 촬영을 마치고 크랭크업했다.'정직한 후보2'는 지난해 2월 개봉한 '정직한 후보'의 후속작으로, 진...\",\n",
       " \"〈사진-소재원 씨 페이스북〉형편이 어려워 결혼식에서 축의금 3만 원을 내고 간 친구와의 일화를 소개한 글이 온라인에서 화제입니다. 진한 우정이 담긴 이 사연의 주인공이 밝혀졌는데, 영화 '소원'·'터널'...\",\n",
       " '더불어민주당 이재명 대선 후보가 3일 오전 국회에서 열린 중앙선거대책위원회의를 주재하고 있다. 〈사진=국회사진기자단〉이재명 더불어민주당 대선후보가 오늘(3일) 국회에서 열린 첫 중앙선거대책위원회 회의를 ...',\n",
       " \"국민의힘 대선 경선에서 윤석열 예비후보를 공개 지지한 서민 전 단국대 교수의 '홍어준표' 표현을 놓고 비판이 이어지고 있습니다. 윤 후보 경쟁자인 홍준표 후보와 호남을 모두 비하했다는 지적입니다. 지난해 11...\",\n",
       " '          경찰이 압수한 마약. 〈사진=동작경찰서 제공〉        국내 거주하는 외국인 노동자들을 상대로 마약을 판매한 외국인 마약 조직이 경찰에 붙잡혔습니다.           서울동작경찰서는 국제 택배로 필로폰...',\n",
       " '〈사진=연합뉴스〉윤석열 국민의힘 대선 예비후보는 \"공식 후보로 확정되면, 즉시 정권 교체를 위한 \\'반(反) 대장동 게이트 연합\\'을 추진하겠다\"고 말했습니다.윤 후보는 오늘(3일) 자신의 페이스북을 통해 이렇게 ...',\n",
       " 'JTBC 엔터뉴스팀그룹 워너원(Wanna One) 재결합 이야기가 긍정적으로 오가고 있다.3일 복수의 관계자에 따르면 \\'2021 MAMA\\'를 앞두고 워너원 재결합에 대한 공식적 이야기를 나눈 것으로 알려졌다. \"매년 시상식을 ...',\n",
       " \" 특진까지 했던 잘 나갔던 전직 경찰이 어떻게 모르는 사람이 없는 보이스피싱 조직 총책이 됐을까요? 지난달 '김미영 팀장' 조직을 만들고 이끌었던 총책 박모 씨가 필리핀 마닐라에서 체포됐습니다. 박 씨는 제복...\",\n",
       " '〈사진=서민 단국대 교수 유튜브 채널 캡처〉윤석열 전 검찰총장을 공개 지지한 서민 단국대 교수가 자신의 유튜브 채널에 \\'홍어준표\\'라는 표현이 올라온 것에 대해 \"죽을죄를 지었다\"고 밝혔습니다.어제(2일) 서 교...',\n",
       " '〈자료사진-JTBC 캡처〉병원 진단서를 내고 병가를 얻거나 육아휴직을 낸 대전 동구청 공무원들이 목적에 맞지 않는 해외여행을 다녀왔다가 적발됐습니다.오늘(3일) 대전시와 동구청은 2018년부터 올해 5월까지 장기...',\n",
       " \"          〈사진=부산시 제공〉         세계 방송·영상 교류의 장, 제15회 부산콘텐츠마켓(BCM)이 오늘부터 12일까지 열흘간 열립니다.            올해는 '콘텐츠로 세상을 잇다(Connection the World through c...\"]"
      ]
     },
     "execution_count": 46,
     "metadata": {},
     "output_type": "execute_result"
    }
   ],
   "source": [
    "preview"
   ]
  },
  {
   "cell_type": "code",
   "execution_count": 47,
   "id": "2bd9613b-1ccd-4247-9844-19c868ea71ff",
   "metadata": {},
   "outputs": [],
   "source": [
    "import re"
   ]
  },
  {
   "cell_type": "code",
   "execution_count": 48,
   "id": "110bc308-5093-4171-8139-8ecabc83fe93",
   "metadata": {},
   "outputs": [],
   "source": [
    "ntypes = []\n",
    "\n",
    "for ntype in root.cssselect('span.location'):\n",
    "    ntype = re.sub('\\t|\\r|\\n|\\[JTBC>] | ', '', ntype.text_content())\n",
    "    ntypes.append(ntype)\n",
    "    "
   ]
  },
  {
   "cell_type": "code",
   "execution_count": 49,
   "id": "4a0276e5-34c4-4244-a213-6859462ae2f5",
   "metadata": {},
   "outputs": [
    {
     "data": {
      "text/plain": [
       "['[JTBC>연예]',\n",
       " '[JTBC>연예]',\n",
       " '[JTBC>연예]',\n",
       " '[JTBC>연예]',\n",
       " '[JTBC>연예]',\n",
       " '[JTBC>사회]',\n",
       " '[JTBC>정치]',\n",
       " '[JTBC>정치]',\n",
       " '[JTBC>사회]',\n",
       " '[JTBC>정치]',\n",
       " '[JTBC>연예]',\n",
       " '[JTBC>사회]',\n",
       " '[JTBC>정치]',\n",
       " '[JTBC>사회]',\n",
       " '[JTBC>사회]']"
      ]
     },
     "execution_count": 49,
     "metadata": {},
     "output_type": "execute_result"
    }
   ],
   "source": [
    "ntypes"
   ]
  },
  {
   "cell_type": "code",
   "execution_count": 50,
   "id": "219a1920-f0f7-4220-9fc9-3788b80ae829",
   "metadata": {},
   "outputs": [
    {
     "name": "stdout",
     "output_type": "stream",
     "text": [
      "15\n",
      "15\n",
      "15\n",
      "15\n"
     ]
    }
   ],
   "source": [
    "print(len(title))\n",
    "print(len(npic))\n",
    "print(len(preview))\n",
    "print(len(ntypes))"
   ]
  },
  {
   "cell_type": "code",
   "execution_count": 51,
   "id": "185cec51-81e2-4221-b71b-58cfa33ff011",
   "metadata": {},
   "outputs": [
    {
     "name": "stdout",
     "output_type": "stream",
     "text": [
      "8 90억원어치 '밀반입 필로폰' 외국인 노동자에 팔아넘긴 일당 검거           경찰이 압수한 마약. 〈사진=동작경찰서 제공〉        국내 거주하는 외국인 노동자들을 상대로 마약을 판매한 외국인 마약 조직이 경찰에 붙잡혔습니다.           서울동작경찰서는 국제 택배로 필로폰... [JTBC>사회] https://photo.jtbc.joins.com/news/jam_photo/202111/03/c207fed3-33ed-416e-9386-3de3ac975869.jpg.tn350.jpg\n",
      "\n"
     ]
    }
   ],
   "source": [
    "for i in range(len(ntype)):\n",
    "    rows = f'{i} {title[i]} {preview[i]} {ntypes[i]} {npic[i]}\\n'\n",
    "print(rows)"
   ]
  },
  {
   "cell_type": "code",
   "execution_count": 52,
   "id": "04b5ae75-bdf0-4b58-96c7-f230095d25a3",
   "metadata": {},
   "outputs": [],
   "source": [
    "#dbeaver실행후 jtbcbews 실행"
   ]
  },
  {
   "cell_type": "code",
   "execution_count": 53,
   "id": "90029102-e653-400b-b970-9ebdcd3642ce",
   "metadata": {},
   "outputs": [
    {
     "ename": "ModuleNotFoundError",
     "evalue": "No module named 'pymysql'",
     "output_type": "error",
     "traceback": [
      "\u001b[1;31m---------------------------------------------------------------------------\u001b[0m",
      "\u001b[1;31mModuleNotFoundError\u001b[0m                       Traceback (most recent call last)",
      "\u001b[1;32m~\\AppData\\Local\\Temp/ipykernel_25632/1435058331.py\u001b[0m in \u001b[0;36m<module>\u001b[1;34m\u001b[0m\n\u001b[1;32m----> 1\u001b[1;33m \u001b[1;32mimport\u001b[0m \u001b[0mpymysql\u001b[0m\u001b[1;33m\u001b[0m\u001b[1;33m\u001b[0m\u001b[0m\n\u001b[0m",
      "\u001b[1;31mModuleNotFoundError\u001b[0m: No module named 'pymysql'"
     ]
    }
   ],
   "source": [
    "import pymysql"
   ]
  },
  {
   "cell_type": "code",
   "execution_count": null,
   "id": "67ca2d6d-fcce-4438-b34a-1d7553fcd460",
   "metadata": {},
   "outputs": [],
   "source": [
    "url = 'bigdata.cco3x4fycnr3.ap-northeast-2.rds.amazonaws.com'\n",
    "uid = 'admin'\n",
    "pwd = 'bigdata2020'\n",
    "db = 'BigData'\n",
    "charset = 'utf8'\n"
   ]
  },
  {
   "cell_type": "code",
   "execution_count": null,
   "id": "1150d77f-f970-48dd-a38b-4c09166759ab",
   "metadata": {},
   "outputs": [],
   "source": [
    "conn = pymysql.connect(host=url, user=uid, password=pwd, db = db, charset=charset)\n",
    "cursor = conn.cursor()"
   ]
  },
  {
   "cell_type": "code",
   "execution_count": null,
   "id": "1a118de8-86f9-4ca8-b612-e19f6c6f016d",
   "metadata": {},
   "outputs": [],
   "source": [
    "for i in range(len(titles)):\n",
    "    params = (title[i], preview[i], ntypes[i], npic[i])\n",
    "    cursor.excute(sql, params)\n",
    "    conn.commit()\n",
    "\n",
    "cursor.close()\n",
    "conn.close()"
   ]
  },
  {
   "cell_type": "code",
   "execution_count": null,
   "id": "a49d7539-df4e-4e06-9220-d4f89a9fbff3",
   "metadata": {},
   "outputs": [],
   "source": [
    "#daum.net에서 영화제목, 평점, 예매율을 추출"
   ]
  },
  {
   "cell_type": "code",
   "execution_count": null,
   "id": "36aa2412-3bf0-4d2e-9d92-aed6e5c4ef1e",
   "metadata": {},
   "outputs": [],
   "source": [
    "url = 'https://movie.daum.net/ranking/reservation'\n",
    "#params = {'pdate' : '20201022'}\n",
    "headers = {'User-Agent': 'Mozilla/5.0 (Windows NT 10.0; Win64; x64; rv:93.0) Gecko/20100101 Firefox/93.0'}\n",
    "\n",
    "res = requests.get(url, headers = headers) #params=params)\n",
    "html = res.text\n",
    "root = lxml.html.fromstring(html)"
   ]
  },
  {
   "cell_type": "code",
   "execution_count": null,
   "id": "c5f29b9d-ab39-43fe-be87-fde1b3ebf921",
   "metadata": {},
   "outputs": [
    {
     "name": "stdout",
     "output_type": "stream",
     "text": [
      "듄\n",
      "베놈 2: 렛 데어 비 카니지\n",
      "라스트 듀얼: 최후의 결투\n",
      "고장난 론\n",
      "007 노 타임 투 다이\n",
      "스틸워터\n",
      "첫눈이 사라졌다\n",
      "노회찬6411\n",
      "한창나이 선녀님\n",
      "타다: 대한민국 스타트업의 초상\n",
      "보이스\n",
      "휴가\n",
      "수색자\n",
      "기적\n",
      "색다른 그녀\n",
      "아버지의 길\n",
      "당신얼굴 앞에서\n",
      "고양이를 부탁해\n",
      "극장판 포켓몬스터: 정글의 아이, 코코\n",
      "극장판 짱구는 못말려: 격돌! 낙서왕국과 얼추 네 명의 용사들\n",
      "홈\n",
      "랭킹\n",
      "상영예정작\n",
      "콘텐츠\n"
     ]
    }
   ],
   "source": [
    "titles = []\n",
    "\n",
    "for i in root.cssselect('a.link_txt'):\n",
    "    print(i.text_content())\n",
    "    titles.append(i.text_content())\n",
    "    #print(i.get('href'))"
   ]
  },
  {
   "cell_type": "code",
   "execution_count": null,
   "id": "0e66ea0c-43d3-41c6-864e-abb1977258ac",
   "metadata": {},
   "outputs": [
    {
     "name": "stdout",
     "output_type": "stream",
     "text": [
      "7.4\n",
      "6.1\n",
      "9.0\n",
      "10.0\n",
      "5.9\n",
      "6.4\n",
      "6.7\n",
      "8.9\n",
      "10.0\n",
      "9.6\n",
      "8.4\n",
      "10.0\n",
      "7.8\n",
      "8.8\n",
      "4.0\n",
      "9.0\n",
      "8.9\n",
      "8.1\n",
      "8.2\n",
      "8.0\n"
     ]
    }
   ],
   "source": [
    "scores = []\n",
    "\n",
    "for i in root.cssselect('span.txt_grade'):\n",
    "    print(i.text_content())\n",
    "    scores.append(i.text_content())\n",
    "    #print(i.get('span'))"
   ]
  },
  {
   "cell_type": "code",
   "execution_count": null,
   "id": "956c546a-9eb9-424f-b825-2118b7cd69f4",
   "metadata": {},
   "outputs": [
    {
     "name": "stdout",
     "output_type": "stream",
     "text": [
      "40.6%\n",
      "21.10.20\n",
      "26.0%\n",
      "21.10.13\n",
      "2.6%\n",
      "21.10.20\n",
      "2.4%\n",
      "21.10.27\n",
      "1.6%\n",
      "21.09.29\n",
      "1.3%\n",
      "21.10.06\n",
      "1.0%\n",
      "21.10.20\n",
      "0.8%\n",
      "21.10.14\n",
      "0.8%\n",
      "21.10.20\n",
      "0.7%\n",
      "21.10.14\n",
      "0.6%\n",
      "21.09.15\n",
      "0.6%\n",
      "21.10.21\n",
      "0.6%\n",
      "21.09.29\n",
      "0.4%\n",
      "21.09.15\n",
      "0.4%\n",
      "21.10.14\n",
      "0.3%\n",
      "21.09.30\n",
      "0.2%\n",
      "21.10.21\n",
      "0.2%\n",
      "21.10.13\n",
      "0.2%\n",
      "21.09.15\n",
      "0.2%\n",
      "21.09.15\n"
     ]
    }
   ],
   "source": [
    "re_rates = []\n",
    "\n",
    "for i in root.cssselect('span.txt_num:last_child'):\n",
    "    print(i.text_content())\n",
    "    #print(i.get())\n",
    "    #re_rates.append(i.text_content())"
   ]
  },
  {
   "cell_type": "code",
   "execution_count": null,
   "id": "e2f7d3d3-4533-4bc0-a0d6-30f13c88311f",
   "metadata": {},
   "outputs": [
    {
     "data": {
      "text/plain": [
       "[]"
      ]
     },
     "execution_count": 546,
     "metadata": {},
     "output_type": "execute_result"
    }
   ],
   "source": [
    "re_rates"
   ]
  },
  {
   "cell_type": "code",
   "execution_count": null,
   "id": "c2f60d7d-f449-44a5-87de-7a13cc220832",
   "metadata": {},
   "outputs": [],
   "source": []
  }
 ],
 "metadata": {
  "interpreter": {
   "hash": "463cc292e78496d1def6bca8f0ce43d3f890fa6940ed739c1b57a9b02274b51c"
  },
  "kernelspec": {
   "display_name": "Python 3.9.7 64-bit (windows store)",
   "name": "python3"
  },
  "language_info": {
   "codemirror_mode": {
    "name": "ipython",
    "version": 3
   },
   "file_extension": ".py",
   "mimetype": "text/x-python",
   "name": "python",
   "nbconvert_exporter": "python",
   "pygments_lexer": "ipython3",
   "version": "3.9.7"
  }
 },
 "nbformat": 4,
 "nbformat_minor": 5
}
