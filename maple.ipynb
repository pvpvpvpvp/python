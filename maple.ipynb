{
 "cells": [
  {
   "cell_type": "code",
   "execution_count": null,
   "metadata": {},
   "outputs": [],
   "source": [
    "from selenium import webdriver\n",
    "from selenium.webdriver.chrome.options import Options\n",
    "from bs4 import BeautifulSoup\n",
    "import requests \n"
   ]
  },
  {
   "cell_type": "code",
   "execution_count": null,
   "metadata": {},
   "outputs": [],
   "source": [
    "# 마플의 의류 리스트를 수집하세요"
   ]
  },
  {
   "cell_type": "code",
   "execution_count": null,
   "metadata": {},
   "outputs": [],
   "source": [
    "url = 'https://www.marpple.com/kr/product/list/9'"
   ]
  },
  {
   "cell_type": "code",
   "execution_count": null,
   "metadata": {},
   "outputs": [],
   "source": [
    "# 지정한 url의 문서를 읽어옴 : get(주소,옵션)\n",
    "res = requests.get(url)"
   ]
  },
  {
   "cell_type": "code",
   "execution_count": null,
   "metadata": {},
   "outputs": [],
   "source": [
    "options = Options()\n",
    "options.add_argument('--headless')"
   ]
  },
  {
   "cell_type": "code",
   "execution_count": null,
   "metadata": {},
   "outputs": [],
   "source": [
    "path = 'C:\\\\Users\\\\kim\\\\chromedriver\\\\chromedriver.exe'\n",
    "chrome = webdriver.Chrome(executable_path=path, options=options)"
   ]
  },
  {
   "cell_type": "code",
   "execution_count": null,
   "metadata": {},
   "outputs": [],
   "source": [
    "chrome.get(url)"
   ]
  },
  {
   "cell_type": "code",
   "execution_count": null,
   "metadata": {},
   "outputs": [],
   "source": [
    "res = chrome.page_source"
   ]
  },
  {
   "cell_type": "code",
   "execution_count": null,
   "metadata": {},
   "outputs": [],
   "source": [
    "html = BeautifulSoup(res,'lxml')"
   ]
  },
  {
   "cell_type": "code",
   "execution_count": null,
   "metadata": {},
   "outputs": [],
   "source": [
    "# 추출한 제목을 저장하기 위해 리스트 선언\n",
    "#product = []\n",
    "#sizes = []\n",
    "#price = []\n",
    "#colors = []\n",
    "#thumbs = []"
   ]
  },
  {
   "cell_type": "code",
   "execution_count": null,
   "metadata": {},
   "outputs": [],
   "source": [
    "# ?\n",
    "product = []\n",
    "\n",
    "for products in html.select('a div.name'):\n",
    "    #print(products.text)\n",
    "    product.append(products.text)"
   ]
  },
  {
   "cell_type": "code",
   "execution_count": null,
   "metadata": {},
   "outputs": [],
   "source": [
    "# ?\n",
    "size = []\n",
    "\n",
    "for sizes in html.select('a div.sizes'):\n",
    "    #print(sizes.text)\n",
    "    size.append(sizes.text)"
   ]
  },
  {
   "cell_type": "code",
   "execution_count": null,
   "metadata": {},
   "outputs": [],
   "source": [
    "# ?\n",
    "price = []\n",
    "\n",
    "for prices in html.select('a div.price.d_price.mp_currency'):\n",
    "    #print(prices.text)\n",
    "    price.append(prices.text)"
   ]
  },
  {
   "cell_type": "code",
   "execution_count": null,
   "metadata": {},
   "outputs": [],
   "source": [
    "# ?\n",
    "colors = []\n",
    "color = []\n",
    "for colors1 in html.select('a div.colors'):\n",
    "    for color2 in colors1.select('div.bp_color'): \n",
    "        #print(color2.get('color_code'))\n",
    "        color.append(color2.get('color_code'))\n",
    "    color.append(\"\\\"\");\n",
    "        \n",
    "\n",
    "colors.append(color)\n",
    "    #print(colors)\n",
    "\n"
   ]
  },
  {
   "cell_type": "code",
   "execution_count": null,
   "metadata": {},
   "outputs": [],
   "source": [
    "colorAll = ''\n",
    "for i in range(len(color)):\n",
    "    colorAll += f'{color[i]}'\n",
    "colorP=colorAll.split(\"\\\"\")"
   ]
  },
  {
   "cell_type": "code",
   "execution_count": null,
   "metadata": {},
   "outputs": [],
   "source": [
    "thumbs = []\n",
    "\n",
    "for thumb in html.select('a img.don_lazy'):\n",
    "    thumbs.append(thumb.get('src'))\n",
    "for thumb in html.select('a img.don_lazy'):\n",
    "    thumbs.append(thumb.get('data-src'))"
   ]
  },
  {
   "cell_type": "code",
   "execution_count": null,
   "metadata": {},
   "outputs": [],
   "source": [
    "b = []\n",
    "j=0\n",
    "img = []\n",
    "for i in range(len(thumbs)):\n",
    "    print(str(thumbs[i]))\n",
    "    val = \"https://image1.marpple.co\" in str(thumbs[i])\n",
    "    print(val)\n",
    "    if(i==272):\n",
    "        img.append(\"\")   \n",
    "    if val:\n",
    "        b.append(thumbs[i])\n",
    "        urllib.request.urlretrieve(b[i+j], f'{i+j}.png')\n",
    "        img.append(f'{i+j}.png')\n",
    "    else:\n",
    "        j-=1\n",
    "        print(f'index:{i+j}')\n",
    "    \n",
    "    \n",
    "    "
   ]
  },
  {
   "cell_type": "code",
   "execution_count": null,
   "metadata": {},
   "outputs": [],
   "source": [
    "data = ''\n",
    "hdr = 'product,size,price \\n'\n",
    "data += hdr\n",
    "\n",
    "for i in range(len(price)):\n",
    "    print(f'\"{product[i]}\", \"{size[i]}\", \"{price[i]}\",  \"{colorP[i]}\" \"{img[i]}\" \\n')\n",
    "    data += f'\"{product[i]}\", \"{size[i]}\", \"{price[i]}\", \"{colorP[i]}\" \"{img[i]}\" \\n'\n",
    "\n",
    "    "
   ]
  },
  {
   "cell_type": "code",
   "execution_count": null,
   "metadata": {},
   "outputs": [],
   "source": [
    "from urllib.request import urlopen\n",
    "from bs4 import BeautifulSoup as bs\n",
    "from urllib.parse import quote_plus\n",
    "import urllib.request"
   ]
  },
  {
   "cell_type": "code",
   "execution_count": null,
   "metadata": {},
   "outputs": [],
   "source": [
    "import pandas as pd"
   ]
  },
  {
   "cell_type": "code",
   "execution_count": null,
   "metadata": {},
   "outputs": [],
   "source": [
    "#추출한 데이터들을 csv 파일로 저장\n",
    "with open('books.csv', 'w',encoding='UTF-8') as f:\n",
    "    #f.write(hdr)\n",
    "    f.write(data)"
   ]
  }
 ],
 "metadata": {
  "interpreter": {
   "hash": "463cc292e78496d1def6bca8f0ce43d3f890fa6940ed739c1b57a9b02274b51c"
  },
  "kernelspec": {
   "display_name": "Python 3.9.7 64-bit (windows store)",
   "name": "python3"
  },
  "language_info": {
   "codemirror_mode": {
    "name": "ipython",
    "version": 3
   },
   "file_extension": ".py",
   "mimetype": "text/x-python",
   "name": "python",
   "nbconvert_exporter": "python",
   "pygments_lexer": "ipython3",
   "version": "3.9.7"
  },
  "orig_nbformat": 4
 },
 "nbformat": 4,
 "nbformat_minor": 2
}
