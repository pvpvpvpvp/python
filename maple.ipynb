{
 "cells": [
  {
   "cell_type": "code",
   "execution_count": 2,
   "metadata": {},
   "outputs": [],
   "source": [
    "from selenium import webdriver\n",
    "from selenium.webdriver.chrome.options import Options\n",
    "from bs4 import BeautifulSoup\n",
    "import requests \n"
   ]
  },
  {
   "cell_type": "code",
   "execution_count": 3,
   "metadata": {},
   "outputs": [],
   "source": [
    "# 마플의 의류 리스트를 수집하세요"
   ]
  },
  {
   "cell_type": "code",
   "execution_count": 4,
   "metadata": {},
   "outputs": [],
   "source": [
    "url = 'https://www.marpple.com/kr/product/list/9'"
   ]
  },
  {
   "cell_type": "code",
   "execution_count": 5,
   "metadata": {},
   "outputs": [],
   "source": [
    "# 지정한 url의 문서를 읽어옴 : get(주소,옵션)\n",
    "res = requests.get(url)"
   ]
  },
  {
   "cell_type": "code",
   "execution_count": 6,
   "metadata": {},
   "outputs": [],
   "source": [
    "options = Options()\n",
    "options.add_argument('--headless')"
   ]
  },
  {
   "cell_type": "code",
   "execution_count": 7,
   "metadata": {},
   "outputs": [
    {
     "name": "stderr",
     "output_type": "stream",
     "text": [
      "C:\\Users\\kim\\AppData\\Local\\Temp/ipykernel_30468/884488143.py:2: DeprecationWarning: executable_path has been deprecated, please pass in a Service object\n",
      "  chrome = webdriver.Chrome(executable_path=path, options=options)\n"
     ]
    }
   ],
   "source": [
    "path = 'C:\\\\Users\\\\kim\\\\chromedriver\\\\chromedriver.exe'\n",
    "chrome = webdriver.Chrome(executable_path=path, options=options)"
   ]
  },
  {
   "cell_type": "code",
   "execution_count": 8,
   "metadata": {},
   "outputs": [],
   "source": [
    "chrome.get(url)"
   ]
  },
  {
   "cell_type": "code",
   "execution_count": 9,
   "metadata": {},
   "outputs": [],
   "source": [
    "res = chrome.page_source"
   ]
  },
  {
   "cell_type": "code",
   "execution_count": 10,
   "metadata": {},
   "outputs": [],
   "source": [
    "html = BeautifulSoup(res,'lxml')"
   ]
  },
  {
   "cell_type": "code",
   "execution_count": 11,
   "metadata": {},
   "outputs": [],
   "source": [
    "# 추출한 제목을 저장하기 위해 리스트 선언\n",
    "#product = []\n",
    "#sizes = []\n",
    "#price = []\n",
    "#colors = []\n",
    "#thumbs = []"
   ]
  },
  {
   "cell_type": "code",
   "execution_count": 12,
   "metadata": {},
   "outputs": [
    {
     "name": "stdout",
     "output_type": "stream",
     "text": [
      "젤란 라이트 후드(남녀공용)\n",
      "요넥스 게임웨어 반팔 044 (여성)\n",
      "요넥스 게임웨어 반팔 023 (남성)\n",
      "요넥스 게임웨어 반팔 024 (여성)\n",
      "요넥스 게임웨어 반팔 043 (남성)\n",
      "젤란 라이트 후드집업(남녀공용)\n",
      "젤란 라이트 맨투맨(남녀공용)\n",
      "트리플에이 1301 스트릿 반팔\n",
      "길단 2000 오리지널 반팔\n",
      "길단 2000 오리지널 반팔 (빅사이즈)\n",
      "프린트스타 17수 라운드 반팔(남녀공용)\n",
      "피그먼트 반팔\n",
      "코튼플레이 더블헤비코튼 반팔\n",
      "길단 88000 베이직 기모 맨투맨\n",
      "길단 88500 베이직 기모 후드\n",
      "길단 88600 베이직 기모 후드집업\n",
      "길단 12000 크루넥 맨투맨(USA핏)\n",
      "길단 12500 베이직 후드 (USA 핏) 기능성/기모\n",
      "특양면 베이직 맨투맨(남녀공용)\n",
      "특양면 베이직 후드(남녀공용)\n",
      "특양면 헤리 맨투맨(남녀공용)\n",
      "프린트스타 17수 오버핏 티셔츠\n",
      "길단 63000 30수 소프트 반팔(남녀공용)\n",
      "길단 76000 24수 베이직 반팔(남녀공용)\n",
      "20수 Value 라운드 반팔(남녀공용)\n",
      "30수 Value 라운드 반팔(남녀공용)\n",
      "챔피온 6.1 스트릿 반팔\n",
      "요넥스 긴팔티 (남녀 공용)\n",
      "요넥스 게임웨어 반팔 011 (남성)\n",
      "요넥스 게임웨어 반팔 012 (여성)\n",
      "요넥스 게임웨어 반팔 019 (남성)\n",
      "요넥스 게임웨어 반팔 020 (여성)\n",
      "요넥스 게임웨어 반팔 005 (남성)\n",
      "요넥스 게임웨어 반팔 006 (여성)\n",
      "요넥스 바람막이 점퍼 (남녀공용)\n",
      "챔피온 헤리티지 반팔 T2102\n",
      "유나이티드 애슬 5001-01 반팔 티셔츠\n",
      "컴포트 컬러즈 1717\n",
      "필잇 시그니처 쿨론 반팔\n",
      "샤카 박스티\n",
      "길단 HA00 반팔 라운드\n",
      "길단 8000 라운드 반팔\n",
      "글리머 드라이 기모 맨투맨\n",
      "글리머 드라이 기모 후드\n",
      "글리머 드라이 기모 후드 집업\n",
      "트리플에이 1701 스트릿 슬림 반팔\n",
      "길단 5000 네온 티셔츠\n",
      "프룻오브더룸 와펜 티셔츠\n",
      "컬러톤 타이다이 티셔츠 (젤리빈)\n",
      "컬러톤 타이다이 티셔츠 (이터니티)\n",
      "컬러톤 타이다이 티셔츠 (민티레인보우)\n",
      "길단 67000 소프트 반팔\n",
      "길단 4BI00 기능성 라운드 반팔\n",
      "길단 76600 링거 반팔티\n",
      "특양면 베이직 후드집업(남녀공용)\n",
      "필잇 시그니처 쭈리 오버핏 맨투맨\n",
      "제멋 제이원 덤블 기모 후드\n",
      "페어플레이 오리지널 반팔\n",
      "페어플레이 에센셜 로우 후드\n",
      "페어플레이 에센셜 후드 집업\n",
      "페어플레이 오리지널 후드(기모)\n",
      "페어플레이 에센셜 와이드 스웨트 팬츠\n",
      "페어플레이 오리지널 집업후드(기모)\n",
      "필잇 시그니처 라운드 반팔\n",
      "페어플레이 더블코튼 무지 반팔\n",
      "제멋 에디 오버핏 반팔 티셔츠\n",
      "필잇 시그니처 라운드 반팔 (빅사이즈)\n",
      "필잇 시그니처 오버핏 기모 맨투맨\n",
      "챔피온 스트릿 후드\n",
      "프린트스타 20수 스탠다드 라운드 티셔츠 (남녀공용)\n",
      "필잇 헤리티지 20수 반팔\n",
      "길단 76400 베이직 긴팔\n",
      "페어플레이 오리지널 맨투맨(기모)\n",
      "필잇 시그니처 웜 후드\n",
      "페어플레이 오리지널 시보리 긴팔\n",
      "챔피온 스트릿 맨투맨\n",
      "유나이티드 애슬 5214-01 쭈리 후디\n",
      "유나이티드 애슬 5044-01 쭈리 맨투맨\n",
      "길단 2400 긴팔 라운드 티셔츠\n",
      "특양면 헤리 기모 맨투맨(남녀공용)\n",
      "니트가디건 (자수/패치만 가능)\n",
      "트리플에이 1574 스트릿 기모 후드집업\n",
      "글리머 리플렉트 플리스 자켓 (자수만 가능)\n",
      "20수 라운드 쭉티 긴팔(남녀공용)\n",
      "페어플레이 오리지널 후드(쭈리)\n",
      "길단 18700 후드집업 (USA핏) 기모\n",
      "트리플에이 1573 스트릿 기모 후드\n",
      "필잇 시그니처 라운드 긴팔\n",
      "길단 92500 기모 후드(USA핏)\n",
      "프룻오브더룸 와펜 후디\n",
      "아메리칸어패럴 2001 프리미엄 반팔\n",
      "필잇 시그니처 웜 후드집업\n",
      "[Dasoul] 무지 양털 집업\n",
      "20수 라운드 시보리 긴팔(남녀공용)\n",
      "길단 42000 기능성 반팔\n",
      "베이직 솔리드 PK 반팔\n",
      "길단 95800 더블 PK 반팔\n",
      "길단 6800 더블 PK 스포츠 반팔\n",
      "아메리칸어패럴 후드티\n",
      "바람막이 자켓 (패치만 가능)\n",
      "루즈핏 베이직 맨투맨\n",
      "길단 5100 반팔 라운드\n",
      "[Dasoul] 베이직 기모 맨투맨\n",
      "앤빌 6750 반팔(남녀공용)\n",
      "베이직 솔리드 PK 긴팔\n",
      "여성 트임 기모 맨투맨\n",
      "챔피온 CC8C 쭉티\n",
      "특양면 져지(남녀공용)\n",
      "유나이티드 애슬 5213-01 쭈리 집업\n",
      "20수 라운드 옆라인 반팔(남녀공용)\n",
      "바람막이 자켓 가슴 주머니 (패치만 가능)\n",
      "트리플에이 5304 긴팔 슬림\n",
      "겨울용 폴라폴리스 자켓 (자수/패치만 가능)\n",
      "오리지널 윈드브레이커\n",
      "글리머 헤비 드라이 후드 집업\n",
      "여성 트임 맨투맨\n",
      "앤빌 391 여자 반팔\n",
      "아메리칸어패럴 여성 트라이블렌드 티셔츠\n",
      "아메리칸어패럴 여성 크롭 맨투맨\n",
      "길단 76400 여성 슬림 긴팔\n",
      "프룻오브더룸 와펜 크루넥\n",
      "글리머 드라이 라운드 긴팔 티셔츠(기능성)\n",
      "필잇 시그니처 쭈리 후드 (옆주머니)\n",
      "베이직 남성 후리스(자수만 가능)\n",
      "트리플에이 1572 스트릿 기모 맨투맨\n",
      "[Dasoul] 무지 집업 후드(기모)\n",
      "[Dasoul] 무지 베이직 후드(기모)\n",
      "필잇 시그니처 쭈리 후드 옆주머니 (빅사이즈)\n",
      "아메리칸어패럴 스판 민소매 크롭탑\n",
      "트리플에이 1308 머슬티\n",
      "프린트스타 T/C 레이어드 폴로셔츠\n",
      "챔피온 T137 나그랑 티셔츠\n",
      "[Dasoul] 스트라이프 레이어드 쭉티\n",
      "프룻오브더룸 와펜 폴로티셔츠\n",
      "글리머 라이트 드라이 티셔츠\n",
      "아메리칸어패럴 반팔 후드티\n",
      "길단 3BI00 SP 반팔 기능성 라운드\n",
      "아메리칸어패럴 여성 나그랑 3/4 티셔츠\n",
      "에이팜스 슬림 라운드 반팔(남녀공용)\n",
      "아메리칸어패럴 헤비 후드티\n",
      "글리머 드라이 레이어드 버튼다운 폴로 셔츠 (주머니)\n",
      "트리플에이 1304 스트릿 크루넥\n",
      "20수 심플 PK 반팔(남녀공용)\n",
      "글리머 드라이 버튼다운 폴로셔츠\n",
      "아메리칸어패럴 여성 티셔츠 드레스\n",
      "길단 76000 24수 여성 슬림 반팔\n",
      "드롭숄더 크롭티\n",
      "앤빌 887L 긴팔 여성 경량 후드티\n",
      "트리플에이 1334 7부 나그랑\n",
      "스판텍스 라운드 반팔(남녀공용)\n",
      "길단 2700 머슬티\n",
      "길단 2300 반팔 포켓 라운드\n",
      "글리머 드라이 라운드 티셔츠(기능성)\n",
      "길단 63V00 V넥 반팔\n",
      "아메리칸어패럴 여성 스판 반팔 크롭탑\n",
      "스판텍스 PK 반팔(남녀공용)\n",
      "길단 76500 나그랑 반팔\n",
      "길단 73800 여성 슬림 PK반팔\n",
      "20수 슬림 나그랑 긴팔(남녀공용)\n",
      "트리플에이 1309 링어 반팔\n",
      "20수 슬림 보카시 반팔(남녀공용)\n",
      "길단 76700 7부 나그랑\n",
      "30수 내추럴 슬라브 반팔(남녀공용)\n",
      "프린트스타 베이직 폴로셔츠(남녀공용)\n",
      "길단 73800 슬림 PK반팔\n",
      "초경량 조끼 (패치만 가능)\n",
      "박스 원피스\n",
      "트리플에이 5300 스트릿 V넥 반팔\n",
      "아메리칸어패럴 트레이닝 반바지\n",
      "아메리칸어패럴 여성 반바지\n",
      "드라이 하프팬츠\n",
      "아메리칸어패럴 플리스 반바지\n",
      "로빈손 코튼 숏츠\n",
      "글리머 드라이 버튼다운 폴로셔츠 (주머니)\n",
      "여성 7부 박스티\n",
      "프린트스타 쮸리 팬츠\n",
      "20수 슬림 나그랑 반팔(남녀공용)\n",
      "아메리칸어패럴 BB453 7부 나그랑(남녀공용)\n",
      "아메리칸어패럴 2102 여성 반팔\n",
      "글리머 드라이 레이어드 폴로 셔츠 (주머니)\n",
      "글리머 드라이 폴로셔츠(주머니)\n",
      "아메리칸어패럴 여성 크롭 탱크탑\n",
      "20수 코튼 브이넥 반팔(남녀공용)\n",
      "길단 83800 PK 면반팔\n",
      "쿨론 라운드 반팔(남녀공용)\n",
      "글리머 드라이 긴팔 폴로셔츠 (주머니)\n",
      "아메리칸어패럴 헤비 맨투맨\n",
      "레귤러 옥스포드 버튼다운셔츠\n",
      "트리플에이 1307 스트릿 민소매\n",
      "길단 18500 베이직 후드 (USA 핏) 기모\n",
      "베이직 셔츠 (블랙)\n",
      "베이직 셔츠 (화이트)\n",
      "길단 76200 24수 탱크톱\n",
      "30수 심플 PK 반팔(남녀공용)\n",
      "라이트 폴라폴리스 자켓 (자수/패치만 가능)\n",
      "베이직 여성 후리스(자수만 가능)\n",
      "아메리칸어패럴 트레이닝 자켓\n",
      "폴라폴리스 미들러(기모)(남녀공용)\n",
      "30수 심플 PK 긴팔(남녀공용)\n",
      "20수 심플 PK 긴팔(남녀공용)\n",
      "글리머 드라이 폴로 셔츠\n",
      "길단 63V00L 30수 여성 V넥 반팔\n",
      "핑크 솔리드 반팔 셔츠\n",
      "쿨론 카라 반팔(남녀공용)\n",
      "박스 롱 원피스\n",
      "화이트 솔리드 반팔 셔츠\n",
      "특양면 터틀넥 집업(남녀공용)\n",
      "글리머 라이트 드라이 집업후드(남녀공용)\n",
      "경량 베스트 (패치만 가능)\n",
      "야구점퍼(블랙)_10장부터 주문가능\n",
      "V넥 라이트 패딩조끼 (패치만 가능)\n",
      "후리스 본딩 후드지퍼 (자수/패치만가능)\n",
      "라이트 윈드브레이커\n",
      "[Dasoul]무지 루즈핏 목폴라\n",
      "노르딕 헤비 패딩 자켓(남녀공용)\n",
      "챔피온 매쉬 반바지\n",
      "야구점퍼(아이보리)_10장부터 주문가능\n",
      "야구점퍼(화이트)_10장부터 주문가능\n",
      "대학과잠바(남녀공용)\n",
      "이누이트 파카\n",
      "길단 44S30 기능성 반바지\n",
      "기모 트레이닝 긴바지\n",
      "단체복 야상(남녀공용)\n",
      "블랙라벨 롱패딩 자켓(남녀공용)\n",
      "헤비 패딩조끼\n",
      "2선 반바지\n",
      "얼반 아웃도어 자켓(남녀공용)\n",
      "야구점퍼(블랙/화이트)_10장부터 주문가능\n",
      "캐주얼 travel 자켓(남녀공용)\n",
      "캐주얼 바람막이 자켓(멜란지)\n",
      "캐주얼 바람막이 자켓(남녀공용)\n",
      "세이프티 방한 자켓\n",
      "캐주얼 방한 자켓(남녀공용)\n",
      "프린트스타 32수 라운드 반팔(남녀공용)\n",
      "롱 과잠바(남녀공용)\n",
      "오리털 롱패딩(남녀공용)\n",
      "퍼블릭 롱패딩 자켓(남녀공용)\n",
      "벤프 롱 파카(남녀공용)\n",
      "뉴 롱 패딩(남녀공용)\n",
      "뉴 롱 과잠바(남녀공용)\n",
      "뉴 롱 패딩 화이트(남녀공용)\n",
      "컴포트 컬러즈 1566 맨투맨\n",
      "컴포트 컬러즈 1567 후드\n"
     ]
    }
   ],
   "source": [
    "# ?\n",
    "product = []\n",
    "\n",
    "for products in html.select('a div.name'):\n",
    "    print(products.text)\n",
    "    product.append(products.text)"
   ]
  },
  {
   "cell_type": "code",
   "execution_count": 13,
   "metadata": {},
   "outputs": [],
   "source": [
    "# ?\n",
    "size = []\n",
    "\n",
    "for sizes in html.select('a div.sizes'):\n",
    "    #print(sizes.text)\n",
    "    size.append(sizes.text)"
   ]
  },
  {
   "cell_type": "code",
   "execution_count": 14,
   "metadata": {},
   "outputs": [],
   "source": [
    "# ?\n",
    "price = []\n",
    "\n",
    "for prices in html.select('a div.price.d_price.mp_currency'):\n",
    "    #print(prices.text)\n",
    "    price.append(prices.text)"
   ]
  },
  {
   "cell_type": "code",
   "execution_count": 15,
   "metadata": {},
   "outputs": [],
   "source": [
    "# ?\n",
    "colors = []\n",
    "color = []\n",
    "for colors1 in html.select('a div.colors'):\n",
    "    for color2 in colors1.select('div.bp_color'): \n",
    "        #print(color2.get('color_code'))\n",
    "        color.append(color2.get('color_code'))\n",
    "    color.append(\"\\\"\");\n",
    "        \n",
    "\n",
    "colors.append(color)\n",
    "    #print(colors)\n",
    "\n"
   ]
  },
  {
   "cell_type": "code",
   "execution_count": 16,
   "metadata": {},
   "outputs": [],
   "source": [
    "colorAll = ''\n",
    "for i in range(len(color)):\n",
    "    colorAll += f'{color[i]}'\n",
    "colorP=colorAll.split(\"\\\"\")"
   ]
  },
  {
   "cell_type": "code",
   "execution_count": 20,
   "metadata": {},
   "outputs": [],
   "source": [
    "colorAllX=\"\";\n",
    "colorAlla=[];\n",
    "for i in range(len(color)):\n",
    "    if(colorAllX.find(color[i])==-1):\n",
    "        colorAlla.append(color[i])\n",
    "        colorAllX=colorAllX+color[i]\n",
    "        \n",
    "   "
   ]
  },
  {
   "cell_type": "code",
   "execution_count": 18,
   "metadata": {},
   "outputs": [],
   "source": [
    "thumbs = []\n",
    "\n",
    "for thumb in html.select('a img.don_lazy'):\n",
    "    thumbs.append(thumb.get('src'))\n",
    "for thumb in html.select('a img.don_lazy'):\n",
    "    thumbs.append(thumb.get('data-src'))"
   ]
  },
  {
   "cell_type": "code",
   "execution_count": 19,
   "metadata": {},
   "outputs": [
    {
     "name": "stdout",
     "output_type": "stream",
     "text": [
      "https://image1.marpple.co/files/u_1364732/2021/3/original/a893259f72008183f61ea7225d1db6372d8489751.jpg?q=90&w=624\n",
      "True\n"
     ]
    },
    {
     "ename": "NameError",
     "evalue": "name 'urllib' is not defined",
     "output_type": "error",
     "traceback": [
      "\u001b[1;31m---------------------------------------------------------------------------\u001b[0m",
      "\u001b[1;31mNameError\u001b[0m                                 Traceback (most recent call last)",
      "\u001b[1;32m~\\AppData\\Local\\Temp/ipykernel_30468/3682480989.py\u001b[0m in \u001b[0;36m<module>\u001b[1;34m\u001b[0m\n\u001b[0;32m     12\u001b[0m     \u001b[1;32mif\u001b[0m \u001b[0mval\u001b[0m\u001b[1;33m:\u001b[0m\u001b[1;33m\u001b[0m\u001b[1;33m\u001b[0m\u001b[0m\n\u001b[0;32m     13\u001b[0m         \u001b[0mb\u001b[0m\u001b[1;33m.\u001b[0m\u001b[0mappend\u001b[0m\u001b[1;33m(\u001b[0m\u001b[0mthumbs\u001b[0m\u001b[1;33m[\u001b[0m\u001b[0mi\u001b[0m\u001b[1;33m]\u001b[0m\u001b[1;33m)\u001b[0m\u001b[1;33m\u001b[0m\u001b[1;33m\u001b[0m\u001b[0m\n\u001b[1;32m---> 14\u001b[1;33m         \u001b[0murllib\u001b[0m\u001b[1;33m.\u001b[0m\u001b[0mrequest\u001b[0m\u001b[1;33m.\u001b[0m\u001b[0murlretrieve\u001b[0m\u001b[1;33m(\u001b[0m\u001b[0mb\u001b[0m\u001b[1;33m[\u001b[0m\u001b[0mi\u001b[0m\u001b[1;33m+\u001b[0m\u001b[0mj\u001b[0m\u001b[1;33m]\u001b[0m\u001b[1;33m,\u001b[0m \u001b[1;34mf'{i+j+z+221}.png'\u001b[0m\u001b[1;33m)\u001b[0m\u001b[1;33m\u001b[0m\u001b[1;33m\u001b[0m\u001b[0m\n\u001b[0m\u001b[0;32m     15\u001b[0m         \u001b[0mimg\u001b[0m\u001b[1;33m.\u001b[0m\u001b[0mappend\u001b[0m\u001b[1;33m(\u001b[0m\u001b[1;34mf'{i+j+z+221}'\u001b[0m\u001b[1;33m)\u001b[0m\u001b[1;33m\u001b[0m\u001b[1;33m\u001b[0m\u001b[0m\n\u001b[0;32m     16\u001b[0m     \u001b[1;32melse\u001b[0m\u001b[1;33m:\u001b[0m\u001b[1;33m\u001b[0m\u001b[1;33m\u001b[0m\u001b[0m\n",
      "\u001b[1;31mNameError\u001b[0m: name 'urllib' is not defined"
     ]
    }
   ],
   "source": [
    "b = []\n",
    "j=0\n",
    "img = []\n",
    "z=0\n",
    "for i in range(len(thumbs)):\n",
    "    print(str(thumbs[i]))\n",
    "    val = \"https://image1.marpple.co\" in str(thumbs[i])\n",
    "    print(val)\n",
    "    if(i==145):\n",
    "        img.append(\"999\")\n",
    "        z=1\n",
    "    if val:\n",
    "        b.append(thumbs[i])\n",
    "        urllib.request.urlretrieve(b[i+j], f'{i+j+z+221}.png')\n",
    "        img.append(f'{i+j+z+221}')\n",
    "    else:\n",
    "        j-=1\n",
    "        print(f'index:{i+j}')\n",
    "    \n",
    "    \n",
    "    "
   ]
  },
  {
   "cell_type": "code",
   "execution_count": null,
   "metadata": {},
   "outputs": [],
   "source": [
    "data = ''\n",
    "hdr = 'product,size,price \\n'\n",
    "data += hdr\n",
    "\n",
    "for i in range(len(price)):\n",
    "    print(f'\"{product[i]}\", \"{size[i]}\", \"{price[i]}\",  \"{colorP[i]}\" \"{img[i]}\" \\n')\n",
    "    data += f'{product[i]}\"{size[i]}\"{price[i]}\"{colorP[i]}\"{img[i]}\"바지\\n'\n",
    "\n",
    "    "
   ]
  },
  {
   "cell_type": "code",
   "execution_count": null,
   "metadata": {},
   "outputs": [],
   "source": [
    "from urllib.request import urlopen\n",
    "from bs4 import BeautifulSoup as bs\n",
    "from urllib.parse import quote_plus\n",
    "import urllib.request"
   ]
  },
  {
   "cell_type": "code",
   "execution_count": null,
   "metadata": {},
   "outputs": [],
   "source": [
    "import pandas as pd"
   ]
  },
  {
   "cell_type": "code",
   "execution_count": null,
   "metadata": {},
   "outputs": [],
   "source": [
    "#추출한 데이터들을 csv 파일로 저장\n",
    "with open('books.csv', 'w',encoding='UTF-8') as f:\n",
    "    #f.write(hdr)\n",
    "    f.write(data)"
   ]
  }
 ],
 "metadata": {
  "interpreter": {
   "hash": "463cc292e78496d1def6bca8f0ce43d3f890fa6940ed739c1b57a9b02274b51c"
  },
  "kernelspec": {
   "display_name": "Python 3.9.7 64-bit (windows store)",
   "name": "python3"
  },
  "language_info": {
   "codemirror_mode": {
    "name": "ipython",
    "version": 3
   },
   "file_extension": ".py",
   "mimetype": "text/x-python",
   "name": "python",
   "nbconvert_exporter": "python",
   "pygments_lexer": "ipython3",
   "version": "3.9.9"
  },
  "orig_nbformat": 4
 },
 "nbformat": 4,
 "nbformat_minor": 2
}
